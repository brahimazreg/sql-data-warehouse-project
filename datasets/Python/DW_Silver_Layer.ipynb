{
 "cells": [
  {
   "cell_type": "code",
   "execution_count": 3,
   "metadata": {},
   "outputs": [],
   "source": [
    "#!pip install pyodbc\n",
    "import pandas as pd\n",
    "import numpy as np\n",
    "import pyodbc"
   ]
  },
  {
   "cell_type": "code",
   "execution_count": 4,
   "metadata": {},
   "outputs": [],
   "source": [
    "import matplotlib.pyplot as plt\n",
    "import seaborn as sns\n",
    "from sklearn.model_selection import train_test_split,GridSearchCV\n",
    "\n",
    "# en cas de besoin \n",
    "from sklearn.tree import DecisionTreeClassifier\n",
    "from sklearn.neighbors import KNeighborsClassifier\n",
    "from sklearn.metrics import classification_report\n",
    "from sklearn.impute import SimpleImputer\n",
    "from sklearn.preprocessing import OrdinalEncoder,OneHotEncoder,LabelEncoder,StandardScaler,MinMaxScaler\n",
    "\n",
    "from sklearn.pipeline import make_pipeline,Pipeline\n",
    "from sklearn.compose import make_column_transformer,ColumnTransformer"
   ]
  },
  {
   "cell_type": "code",
   "execution_count": 25,
   "metadata": {},
   "outputs": [],
   "source": [
    "#***********************************************************************************************************************\n",
    "# this code is for designing Silver layer by reading tables from bronze layer and making cleansing and transforming data\n",
    "# I will not use any transformation in this step ,  i will use bronze layer as backup\n",
    "#***********************************************************************************************************************\n",
    "# Connnection to the database \n",
    "def connect_database():\n",
    "    server = 'E6K-VDI1601\\\\TFTIC'   \n",
    "    database = 'DataWarehouse_Demo'\n",
    "    username = 'sa'\n",
    "    password = 'tftic@2012'\n",
    "    driver = '{ODBC Driver 17 for SQL Server}'    \n",
    "    conn=pyodbc.connect(f'DRIVER={driver};SERVER={server};DATABASE={database};UID={username};PWD={password}' ,  autocommit=True)\n",
    "    cursor = conn.cursor()\n",
    "    return cursor , conn"
   ]
  },
  {
   "cell_type": "code",
   "execution_count": 26,
   "metadata": {},
   "outputs": [],
   "source": [
    "# call the function connect_database and get cursor and connection\n",
    "cur , con = connect_database()"
   ]
  },
  {
   "cell_type": "code",
   "execution_count": 27,
   "metadata": {},
   "outputs": [
    {
     "name": "stderr",
     "output_type": "stream",
     "text": [
      "C:\\Users\\b.azreg\\AppData\\Local\\Temp\\ipykernel_14796\\1716421256.py:3: UserWarning: pandas only supports SQLAlchemy connectable (engine/connection) or database string URI or sqlite3 DBAPI2 connection. Other DBAPI2 objects are not tested. Please consider using SQLAlchemy.\n",
      "  df_customers = pd.read_sql(query, con)\n"
     ]
    },
    {
     "data": {
      "text/html": [
       "<div>\n",
       "<style scoped>\n",
       "    .dataframe tbody tr th:only-of-type {\n",
       "        vertical-align: middle;\n",
       "    }\n",
       "\n",
       "    .dataframe tbody tr th {\n",
       "        vertical-align: top;\n",
       "    }\n",
       "\n",
       "    .dataframe thead th {\n",
       "        text-align: right;\n",
       "    }\n",
       "</style>\n",
       "<table border=\"1\" class=\"dataframe\">\n",
       "  <thead>\n",
       "    <tr style=\"text-align: right;\">\n",
       "      <th></th>\n",
       "      <th>cst_id</th>\n",
       "      <th>cst_key</th>\n",
       "      <th>cst_firstname</th>\n",
       "      <th>cst_lastname</th>\n",
       "      <th>cst_marital_status</th>\n",
       "      <th>cst_gndr</th>\n",
       "      <th>cst_create_date</th>\n",
       "    </tr>\n",
       "  </thead>\n",
       "  <tbody>\n",
       "    <tr>\n",
       "      <th>0</th>\n",
       "      <td>11000</td>\n",
       "      <td>AW00011000</td>\n",
       "      <td>Jon</td>\n",
       "      <td>Yang</td>\n",
       "      <td>M</td>\n",
       "      <td>M</td>\n",
       "      <td>2025-10-06</td>\n",
       "    </tr>\n",
       "    <tr>\n",
       "      <th>1</th>\n",
       "      <td>11001</td>\n",
       "      <td>AW00011001</td>\n",
       "      <td>Eugene</td>\n",
       "      <td>Huang</td>\n",
       "      <td>S</td>\n",
       "      <td>M</td>\n",
       "      <td>2025-10-06</td>\n",
       "    </tr>\n",
       "    <tr>\n",
       "      <th>2</th>\n",
       "      <td>11002</td>\n",
       "      <td>AW00011002</td>\n",
       "      <td>Ruben</td>\n",
       "      <td>Torres</td>\n",
       "      <td>M</td>\n",
       "      <td>M</td>\n",
       "      <td>2025-10-06</td>\n",
       "    </tr>\n",
       "    <tr>\n",
       "      <th>3</th>\n",
       "      <td>11003</td>\n",
       "      <td>AW00011003</td>\n",
       "      <td>Christy</td>\n",
       "      <td>Zhu</td>\n",
       "      <td>S</td>\n",
       "      <td>F</td>\n",
       "      <td>2025-10-06</td>\n",
       "    </tr>\n",
       "    <tr>\n",
       "      <th>4</th>\n",
       "      <td>11004</td>\n",
       "      <td>AW00011004</td>\n",
       "      <td>Elizabeth</td>\n",
       "      <td>Johnson</td>\n",
       "      <td>S</td>\n",
       "      <td>F</td>\n",
       "      <td>2025-10-06</td>\n",
       "    </tr>\n",
       "  </tbody>\n",
       "</table>\n",
       "</div>"
      ],
      "text/plain": [
       "   cst_id     cst_key cst_firstname cst_lastname cst_marital_status cst_gndr  \\\n",
       "0   11000  AW00011000           Jon        Yang                   M        M   \n",
       "1   11001  AW00011001        Eugene      Huang                    S        M   \n",
       "2   11002  AW00011002         Ruben       Torres                  M        M   \n",
       "3   11003  AW00011003       Christy          Zhu                  S        F   \n",
       "4   11004  AW00011004     Elizabeth      Johnson                  S        F   \n",
       "\n",
       "  cst_create_date  \n",
       "0      2025-10-06  \n",
       "1      2025-10-06  \n",
       "2      2025-10-06  \n",
       "3      2025-10-06  \n",
       "4      2025-10-06  "
      ]
     },
     "execution_count": 27,
     "metadata": {},
     "output_type": "execute_result"
    }
   ],
   "source": [
    "# Read the customers table from sql server\n",
    "query = \"select * from bronze.crm_customers ;\"\n",
    "df_customers = pd.read_sql(query, con)\n",
    "\n",
    "# Display the DataFrame\n",
    "df_customers.head()"
   ]
  },
  {
   "cell_type": "code",
   "execution_count": 28,
   "metadata": {},
   "outputs": [
    {
     "name": "stdout",
     "output_type": "stream",
     "text": [
      "<class 'pandas.core.frame.DataFrame'>\n",
      "RangeIndex: 9999 entries, 0 to 9998\n",
      "Data columns (total 7 columns):\n",
      " #   Column              Non-Null Count  Dtype         \n",
      "---  ------              --------------  -----         \n",
      " 0   cst_id              9999 non-null   int64         \n",
      " 1   cst_key             9999 non-null   object        \n",
      " 2   cst_firstname       9999 non-null   object        \n",
      " 3   cst_lastname        9999 non-null   object        \n",
      " 4   cst_marital_status  9999 non-null   object        \n",
      " 5   cst_gndr            9999 non-null   object        \n",
      " 6   cst_create_date     9999 non-null   datetime64[ns]\n",
      "dtypes: datetime64[ns](1), int64(1), object(5)\n",
      "memory usage: 546.9+ KB\n"
     ]
    }
   ],
   "source": [
    "df_customers.info()"
   ]
  },
  {
   "cell_type": "code",
   "execution_count": 29,
   "metadata": {},
   "outputs": [
    {
     "name": "stdout",
     "output_type": "stream",
     "text": [
      "0\n"
     ]
    }
   ],
   "source": [
    "# check if cst_id is unique\n",
    "print(df_customers['cst_id'].duplicated().sum())"
   ]
  },
  {
   "cell_type": "code",
   "execution_count": 30,
   "metadata": {},
   "outputs": [
    {
     "data": {
      "image/png": "[encoded data removed]",
      "text/plain": [
       "<Figure size 600x400 with 1 Axes>"
      ]
     },
     "metadata": {},
     "output_type": "display_data"
    }
   ],
   "source": [
    "# check if there is any null value in the dataset  \n",
    "plt.figure(figsize=(6,4))\n",
    "plt.title('Customers Null Values')\n",
    "sns.heatmap(df_customers.isna(),cbar=False)\n",
    "plt.show()"
   ]
  },
  {
   "cell_type": "code",
   "execution_count": 32,
   "metadata": {},
   "outputs": [
    {
     "data": {
      "text/html": [
       "<div>\n",
       "<style scoped>\n",
       "    .dataframe tbody tr th:only-of-type {\n",
       "        vertical-align: middle;\n",
       "    }\n",
       "\n",
       "    .dataframe tbody tr th {\n",
       "        vertical-align: top;\n",
       "    }\n",
       "\n",
       "    .dataframe thead th {\n",
       "        text-align: right;\n",
       "    }\n",
       "</style>\n",
       "<table border=\"1\" class=\"dataframe\">\n",
       "  <thead>\n",
       "    <tr style=\"text-align: right;\">\n",
       "      <th></th>\n",
       "      <th>cst_id</th>\n",
       "      <th>cst_key</th>\n",
       "      <th>cst_firstname</th>\n",
       "      <th>cst_lastname</th>\n",
       "      <th>cst_marital_status</th>\n",
       "      <th>cst_gndr</th>\n",
       "      <th>cst_create_date</th>\n",
       "    </tr>\n",
       "  </thead>\n",
       "  <tbody>\n",
       "    <tr>\n",
       "      <th>0</th>\n",
       "      <td>11000</td>\n",
       "      <td>AW00011000</td>\n",
       "      <td>Jon</td>\n",
       "      <td>Yang</td>\n",
       "      <td>M</td>\n",
       "      <td>M</td>\n",
       "      <td>2025-10-06</td>\n",
       "    </tr>\n",
       "    <tr>\n",
       "      <th>4</th>\n",
       "      <td>11004</td>\n",
       "      <td>AW00011004</td>\n",
       "      <td>Elizabeth</td>\n",
       "      <td>Johnson</td>\n",
       "      <td>S</td>\n",
       "      <td>F</td>\n",
       "      <td>2025-10-06</td>\n",
       "    </tr>\n",
       "    <tr>\n",
       "      <th>12</th>\n",
       "      <td>11012</td>\n",
       "      <td>AW00011012</td>\n",
       "      <td>Lauren</td>\n",
       "      <td>Walker</td>\n",
       "      <td>M</td>\n",
       "      <td>F</td>\n",
       "      <td>2025-10-06</td>\n",
       "    </tr>\n",
       "    <tr>\n",
       "      <th>13</th>\n",
       "      <td>11013</td>\n",
       "      <td>AW00011013</td>\n",
       "      <td>Ian</td>\n",
       "      <td>Jenkins</td>\n",
       "      <td>M</td>\n",
       "      <td>M</td>\n",
       "      <td>2025-10-06</td>\n",
       "    </tr>\n",
       "    <tr>\n",
       "      <th>15</th>\n",
       "      <td>11015</td>\n",
       "      <td>AW00011015</td>\n",
       "      <td>Chloe</td>\n",
       "      <td>Young</td>\n",
       "      <td>S</td>\n",
       "      <td>F</td>\n",
       "      <td>2025-10-06</td>\n",
       "    </tr>\n",
       "    <tr>\n",
       "      <th>21</th>\n",
       "      <td>11021</td>\n",
       "      <td>AW00011021</td>\n",
       "      <td>Destiny</td>\n",
       "      <td>Wilson</td>\n",
       "      <td>S</td>\n",
       "      <td>F</td>\n",
       "      <td>2025-10-07</td>\n",
       "    </tr>\n",
       "    <tr>\n",
       "      <th>63</th>\n",
       "      <td>11063</td>\n",
       "      <td>AW00011063</td>\n",
       "      <td>Angela</td>\n",
       "      <td>Murphy</td>\n",
       "      <td>S</td>\n",
       "      <td>F</td>\n",
       "      <td>2025-10-07</td>\n",
       "    </tr>\n",
       "    <tr>\n",
       "      <th>65</th>\n",
       "      <td>11065</td>\n",
       "      <td>AW00011065</td>\n",
       "      <td>Jessica</td>\n",
       "      <td>Henderson</td>\n",
       "      <td>M</td>\n",
       "      <td>F</td>\n",
       "      <td>2025-10-07</td>\n",
       "    </tr>\n",
       "    <tr>\n",
       "      <th>67</th>\n",
       "      <td>11067</td>\n",
       "      <td>AW00011067</td>\n",
       "      <td>Caleb</td>\n",
       "      <td>Carter</td>\n",
       "      <td>S</td>\n",
       "      <td>M</td>\n",
       "      <td>2025-10-07</td>\n",
       "    </tr>\n",
       "    <tr>\n",
       "      <th>70</th>\n",
       "      <td>11070</td>\n",
       "      <td>AW00011070</td>\n",
       "      <td>Willie</td>\n",
       "      <td>Raji</td>\n",
       "      <td>M</td>\n",
       "      <td>M</td>\n",
       "      <td>2025-10-07</td>\n",
       "    </tr>\n",
       "    <tr>\n",
       "      <th>109</th>\n",
       "      <td>11109</td>\n",
       "      <td>AW00011109</td>\n",
       "      <td>Ruben</td>\n",
       "      <td>Kapoor</td>\n",
       "      <td>S</td>\n",
       "      <td>M</td>\n",
       "      <td>2025-10-07</td>\n",
       "    </tr>\n",
       "    <tr>\n",
       "      <th>140</th>\n",
       "      <td>11140</td>\n",
       "      <td>AW00011140</td>\n",
       "      <td>Javier</td>\n",
       "      <td>Alvarez</td>\n",
       "      <td>S</td>\n",
       "      <td>M</td>\n",
       "      <td>2025-10-07</td>\n",
       "    </tr>\n",
       "    <tr>\n",
       "      <th>141</th>\n",
       "      <td>11141</td>\n",
       "      <td>AW00011141</td>\n",
       "      <td>Nicole</td>\n",
       "      <td>Ramirez</td>\n",
       "      <td>M</td>\n",
       "      <td>F</td>\n",
       "      <td>2025-10-07</td>\n",
       "    </tr>\n",
       "    <tr>\n",
       "      <th>208</th>\n",
       "      <td>11208</td>\n",
       "      <td>AW00011208</td>\n",
       "      <td>Maria</td>\n",
       "      <td>Reed</td>\n",
       "      <td>M</td>\n",
       "      <td></td>\n",
       "      <td>2025-10-08</td>\n",
       "    </tr>\n",
       "    <tr>\n",
       "      <th>209</th>\n",
       "      <td>11209</td>\n",
       "      <td>AW00011209</td>\n",
       "      <td>Allison</td>\n",
       "      <td>Evans</td>\n",
       "      <td>M</td>\n",
       "      <td></td>\n",
       "      <td>2025-10-08</td>\n",
       "    </tr>\n",
       "    <tr>\n",
       "      <th>229</th>\n",
       "      <td>11229</td>\n",
       "      <td>AW00011229</td>\n",
       "      <td>Adrian</td>\n",
       "      <td>Stewart</td>\n",
       "      <td>S</td>\n",
       "      <td></td>\n",
       "      <td>2025-10-08</td>\n",
       "    </tr>\n",
       "    <tr>\n",
       "      <th>259</th>\n",
       "      <td>11259</td>\n",
       "      <td>AW00011259</td>\n",
       "      <td>Victoria</td>\n",
       "      <td>Stewart</td>\n",
       "      <td>M</td>\n",
       "      <td></td>\n",
       "      <td>2025-10-08</td>\n",
       "    </tr>\n",
       "    <tr>\n",
       "      <th>9164</th>\n",
       "      <td>20164</td>\n",
       "      <td>AW00020164</td>\n",
       "      <td>Carol Ann</td>\n",
       "      <td>Rockne</td>\n",
       "      <td>M</td>\n",
       "      <td>M</td>\n",
       "      <td>2026-01-05</td>\n",
       "    </tr>\n",
       "  </tbody>\n",
       "</table>\n",
       "</div>"
      ],
      "text/plain": [
       "      cst_id     cst_key cst_firstname cst_lastname cst_marital_status  \\\n",
       "0      11000  AW00011000           Jon        Yang                   M   \n",
       "4      11004  AW00011004     Elizabeth      Johnson                  S   \n",
       "12     11012  AW00011012        Lauren       Walker                  M   \n",
       "13     11013  AW00011013          Ian      Jenkins                   M   \n",
       "15     11015  AW00011015         Chloe        Young                  S   \n",
       "21     11021  AW00011021       Destiny      Wilson                   S   \n",
       "63     11063  AW00011063      Angela       Murphy                    S   \n",
       "65     11065  AW00011065     Jessica     Henderson                   M   \n",
       "67     11067  AW00011067         Caleb       Carter                  S   \n",
       "70     11070  AW00011070       Willie          Raji                  M   \n",
       "109    11109  AW00011109        Ruben       Kapoor                   S   \n",
       "140    11140  AW00011140       Javier       Alvarez                  S   \n",
       "141    11141  AW00011141        Nicole      Ramirez                  M   \n",
       "208    11208  AW00011208        Maria          Reed                  M   \n",
       "209    11209  AW00011209      Allison         Evans                  M   \n",
       "229    11229  AW00011229       Adrian       Stewart                  S   \n",
       "259    11259  AW00011259    Victoria        Stewart                  M   \n",
       "9164   20164  AW00020164     Carol Ann       Rockne                  M   \n",
       "\n",
       "     cst_gndr cst_create_date  \n",
       "0           M      2025-10-06  \n",
       "4           F      2025-10-06  \n",
       "12          F      2025-10-06  \n",
       "13          M      2025-10-06  \n",
       "15          F      2025-10-06  \n",
       "21          F      2025-10-07  \n",
       "63          F      2025-10-07  \n",
       "65          F      2025-10-07  \n",
       "67          M      2025-10-07  \n",
       "70          M      2025-10-07  \n",
       "109         M      2025-10-07  \n",
       "140         M      2025-10-07  \n",
       "141         F      2025-10-07  \n",
       "208                2025-10-08  \n",
       "209                2025-10-08  \n",
       "229                2025-10-08  \n",
       "259                2025-10-08  \n",
       "9164        M      2026-01-05  "
      ]
     },
     "execution_count": 32,
     "metadata": {},
     "output_type": "execute_result"
    }
   ],
   "source": [
    "# check for unwanted spaces for firstname \n",
    "\n",
    "df_customers[df_customers['cst_firstname'].str.contains(' ',regex=False)==True]"
   ]
  },
  {
   "cell_type": "code",
   "execution_count": 33,
   "metadata": {},
   "outputs": [],
   "source": [
    "# delete unwanted left and rigth spaces from cst_firstname\n",
    "df_customers['cst_firstname'] = df_customers['cst_firstname'].str.strip()"
   ]
  },
  {
   "cell_type": "code",
   "execution_count": 34,
   "metadata": {},
   "outputs": [
    {
     "data": {
      "text/html": [
       "<div>\n",
       "<style scoped>\n",
       "    .dataframe tbody tr th:only-of-type {\n",
       "        vertical-align: middle;\n",
       "    }\n",
       "\n",
       "    .dataframe tbody tr th {\n",
       "        vertical-align: top;\n",
       "    }\n",
       "\n",
       "    .dataframe thead th {\n",
       "        text-align: right;\n",
       "    }\n",
       "</style>\n",
       "<table border=\"1\" class=\"dataframe\">\n",
       "  <thead>\n",
       "    <tr style=\"text-align: right;\">\n",
       "      <th></th>\n",
       "      <th>cst_id</th>\n",
       "      <th>cst_key</th>\n",
       "      <th>cst_firstname</th>\n",
       "      <th>cst_lastname</th>\n",
       "      <th>cst_marital_status</th>\n",
       "      <th>cst_gndr</th>\n",
       "      <th>cst_create_date</th>\n",
       "    </tr>\n",
       "  </thead>\n",
       "  <tbody>\n",
       "    <tr>\n",
       "      <th>9164</th>\n",
       "      <td>20164</td>\n",
       "      <td>AW00020164</td>\n",
       "      <td>Carol Ann</td>\n",
       "      <td>Rockne</td>\n",
       "      <td>M</td>\n",
       "      <td>M</td>\n",
       "      <td>2026-01-05</td>\n",
       "    </tr>\n",
       "  </tbody>\n",
       "</table>\n",
       "</div>"
      ],
      "text/plain": [
       "      cst_id     cst_key cst_firstname cst_lastname cst_marital_status  \\\n",
       "9164   20164  AW00020164     Carol Ann       Rockne                  M   \n",
       "\n",
       "     cst_gndr cst_create_date  \n",
       "9164        M      2026-01-05  "
      ]
     },
     "execution_count": 34,
     "metadata": {},
     "output_type": "execute_result"
    }
   ],
   "source": [
    "# verify no unwanted space in cst_firstname\n",
    "df_customers[df_customers['cst_firstname'].str.contains(' ',regex=False)==True]"
   ]
  },
  {
   "cell_type": "code",
   "execution_count": 35,
   "metadata": {},
   "outputs": [],
   "source": [
    "# delete unwanted left and rigth spaces from cst_lastname\n",
    "df_customers['cst_lastname']=df_customers['cst_lastname'].str.strip()"
   ]
  },
  {
   "cell_type": "code",
   "execution_count": 36,
   "metadata": {},
   "outputs": [
    {
     "data": {
      "text/html": [
       "<div>\n",
       "<style scoped>\n",
       "    .dataframe tbody tr th:only-of-type {\n",
       "        vertical-align: middle;\n",
       "    }\n",
       "\n",
       "    .dataframe tbody tr th {\n",
       "        vertical-align: top;\n",
       "    }\n",
       "\n",
       "    .dataframe thead th {\n",
       "        text-align: right;\n",
       "    }\n",
       "</style>\n",
       "<table border=\"1\" class=\"dataframe\">\n",
       "  <thead>\n",
       "    <tr style=\"text-align: right;\">\n",
       "      <th></th>\n",
       "      <th>cst_id</th>\n",
       "      <th>cst_key</th>\n",
       "      <th>cst_firstname</th>\n",
       "      <th>cst_lastname</th>\n",
       "      <th>cst_marital_status</th>\n",
       "      <th>cst_gndr</th>\n",
       "      <th>cst_create_date</th>\n",
       "    </tr>\n",
       "  </thead>\n",
       "  <tbody>\n",
       "    <tr>\n",
       "      <th>9497</th>\n",
       "      <td>20497</td>\n",
       "      <td>AW00020497</td>\n",
       "      <td>Francisco</td>\n",
       "      <td>Javier CastrejÇün</td>\n",
       "      <td>M</td>\n",
       "      <td>F</td>\n",
       "      <td>2026-01-05</td>\n",
       "    </tr>\n",
       "  </tbody>\n",
       "</table>\n",
       "</div>"
      ],
      "text/plain": [
       "      cst_id     cst_key cst_firstname       cst_lastname cst_marital_status  \\\n",
       "9497   20497  AW00020497     Francisco  Javier CastrejÇün                  M   \n",
       "\n",
       "     cst_gndr cst_create_date  \n",
       "9497        F      2026-01-05  "
      ]
     },
     "execution_count": 36,
     "metadata": {},
     "output_type": "execute_result"
    }
   ],
   "source": [
    "# verify no unwanted space in cst_lastname\n",
    "df_customers[df_customers['cst_lastname'].str.contains(' ',regex=False)==True]"
   ]
  },
  {
   "cell_type": "code",
   "execution_count": 37,
   "metadata": {},
   "outputs": [
    {
     "data": {
      "text/plain": [
       "np.int64(0)"
      ]
     },
     "execution_count": 37,
     "metadata": {},
     "output_type": "execute_result"
    }
   ],
   "source": [
    "# check  for null value in cst_marital_status column\n",
    "df_customers['cst_marital_status'].isnull().sum()"
   ]
  },
  {
   "cell_type": "code",
   "execution_count": 38,
   "metadata": {},
   "outputs": [
    {
     "data": {
      "text/plain": [
       "array(['M', 'S'], dtype=object)"
      ]
     },
     "execution_count": 38,
     "metadata": {},
     "output_type": "execute_result"
    }
   ],
   "source": [
    "# check how many distinct values in cst_marital_status\n",
    "df_customers['cst_marital_status'].unique()"
   ]
  },
  {
   "cell_type": "code",
   "execution_count": 39,
   "metadata": {},
   "outputs": [],
   "source": [
    "# Replace S by : Single and M : by Married\n",
    "df_customers['cst_marital_status']=df_customers['cst_marital_status'].replace('S','Single')\n",
    "df_customers['cst_marital_status']=df_customers['cst_marital_status'].replace('M','Married')"
   ]
  },
  {
   "cell_type": "code",
   "execution_count": 40,
   "metadata": {},
   "outputs": [
    {
     "data": {
      "text/plain": [
       "array(['Married', 'Single'], dtype=object)"
      ]
     },
     "execution_count": 40,
     "metadata": {},
     "output_type": "execute_result"
    }
   ],
   "source": [
    "# verify the cst_marital_status\n",
    "df_customers['cst_marital_status'].unique()"
   ]
  },
  {
   "cell_type": "code",
   "execution_count": 41,
   "metadata": {},
   "outputs": [
    {
     "data": {
      "text/plain": [
       "array(['M', 'F', ''], dtype=object)"
      ]
     },
     "execution_count": 41,
     "metadata": {},
     "output_type": "execute_result"
    }
   ],
   "source": [
    "# check distinct values in cst_gndr\n",
    "df_customers['cst_gndr'].unique()"
   ]
  },
  {
   "cell_type": "code",
   "execution_count": 42,
   "metadata": {},
   "outputs": [],
   "source": [
    "# replace abreviation M, F by 'Male' and 'Female'\n",
    "df_customers['cst_gndr'] = df_customers['cst_gndr'].replace('M','Male')\n",
    "df_customers['cst_gndr'] = df_customers['cst_gndr'].replace('F', 'Female')\n",
    "df_customers['cst_gndr'] = df_customers['cst_gndr'].replace('' ,'None')"
   ]
  },
  {
   "cell_type": "code",
   "execution_count": 43,
   "metadata": {},
   "outputs": [
    {
     "data": {
      "text/plain": [
       "array(['Male', 'Female', 'None'], dtype=object)"
      ]
     },
     "execution_count": 43,
     "metadata": {},
     "output_type": "execute_result"
    }
   ],
   "source": [
    "# Verify cst_gndr values\n",
    "df_customers['cst_gndr'].unique()"
   ]
  },
  {
   "cell_type": "code",
   "execution_count": 44,
   "metadata": {},
   "outputs": [],
   "source": [
    "df_customers['cst_gndr']=df_customers['cst_gndr'].str.strip()"
   ]
  },
  {
   "cell_type": "code",
   "execution_count": 45,
   "metadata": {},
   "outputs": [
    {
     "data": {
      "text/html": [
       "<div>\n",
       "<style scoped>\n",
       "    .dataframe tbody tr th:only-of-type {\n",
       "        vertical-align: middle;\n",
       "    }\n",
       "\n",
       "    .dataframe tbody tr th {\n",
       "        vertical-align: top;\n",
       "    }\n",
       "\n",
       "    .dataframe thead th {\n",
       "        text-align: right;\n",
       "    }\n",
       "</style>\n",
       "<table border=\"1\" class=\"dataframe\">\n",
       "  <thead>\n",
       "    <tr style=\"text-align: right;\">\n",
       "      <th></th>\n",
       "      <th>cst_id</th>\n",
       "      <th>cst_key</th>\n",
       "      <th>cst_firstname</th>\n",
       "      <th>cst_lastname</th>\n",
       "      <th>cst_marital_status</th>\n",
       "      <th>cst_gndr</th>\n",
       "      <th>cst_create_date</th>\n",
       "    </tr>\n",
       "  </thead>\n",
       "  <tbody>\n",
       "    <tr>\n",
       "      <th>0</th>\n",
       "      <td>11000</td>\n",
       "      <td>AW00011000</td>\n",
       "      <td>Jon</td>\n",
       "      <td>Yang</td>\n",
       "      <td>Married</td>\n",
       "      <td>Male</td>\n",
       "      <td>2025-10-06</td>\n",
       "    </tr>\n",
       "    <tr>\n",
       "      <th>1</th>\n",
       "      <td>11001</td>\n",
       "      <td>AW00011001</td>\n",
       "      <td>Eugene</td>\n",
       "      <td>Huang</td>\n",
       "      <td>Single</td>\n",
       "      <td>Male</td>\n",
       "      <td>2025-10-06</td>\n",
       "    </tr>\n",
       "    <tr>\n",
       "      <th>2</th>\n",
       "      <td>11002</td>\n",
       "      <td>AW00011002</td>\n",
       "      <td>Ruben</td>\n",
       "      <td>Torres</td>\n",
       "      <td>Married</td>\n",
       "      <td>Male</td>\n",
       "      <td>2025-10-06</td>\n",
       "    </tr>\n",
       "  </tbody>\n",
       "</table>\n",
       "</div>"
      ],
      "text/plain": [
       "   cst_id     cst_key cst_firstname cst_lastname cst_marital_status cst_gndr  \\\n",
       "0   11000  AW00011000           Jon         Yang            Married     Male   \n",
       "1   11001  AW00011001        Eugene        Huang             Single     Male   \n",
       "2   11002  AW00011002         Ruben       Torres            Married     Male   \n",
       "\n",
       "  cst_create_date  \n",
       "0      2025-10-06  \n",
       "1      2025-10-06  \n",
       "2      2025-10-06  "
      ]
     },
     "execution_count": 45,
     "metadata": {},
     "output_type": "execute_result"
    }
   ],
   "source": [
    "df_customers.head(3)"
   ]
  },
  {
   "cell_type": "code",
   "execution_count": 46,
   "metadata": {},
   "outputs": [],
   "source": [
    "# truncate table before insert any record\n",
    "cur.execute(' truncate table  silver.crm_customers ;')\n",
    "# sql for insert df_customers into silver.crm_customers\n",
    "silver_crm_customer_insert=\"\"\"use DataWarehouse_Demo ; INSERT INTO silver.crm_customers (\n",
    "    cst_id ,\n",
    "    cst_key ,\n",
    "    cst_firstname ,\n",
    "    cst_lastname ,\n",
    "    cst_marital_status ,\n",
    "    cst_gndr ,\n",
    "    cst_create_date \n",
    "    )  \n",
    "    values(?,?,?,?,?,?,?)\n",
    "\"\"\""
   ]
  },
  {
   "cell_type": "code",
   "execution_count": 47,
   "metadata": {},
   "outputs": [
    {
     "name": "stdout",
     "output_type": "stream",
     "text": [
      "Rows inserted successfully !\n",
      "database connecction closed\n"
     ]
    }
   ],
   "source": [
    "try:\n",
    "    for i , row in df_customers.iterrows():\n",
    "        cur.execute(silver_crm_customer_insert,list(row))\n",
    "        con.commit()\n",
    "    print(\"Rows inserted successfully !\")\n",
    "except:\n",
    "    print(\"Error to insert rows\")\n",
    "finally:\n",
    "    con.close()\n",
    "    print('database connecction closed')"
   ]
  },
  {
   "cell_type": "code",
   "execution_count": 102,
   "metadata": {},
   "outputs": [
    {
     "name": "stderr",
     "output_type": "stream",
     "text": [
      "C:\\Users\\b.azreg\\AppData\\Local\\Temp\\ipykernel_14796\\2466955132.py:4: UserWarning: pandas only supports SQLAlchemy connectable (engine/connection) or database string URI or sqlite3 DBAPI2 connection. Other DBAPI2 objects are not tested. Please consider using SQLAlchemy.\n",
      "  df_products = pd.read_sql(query, con)\n"
     ]
    },
    {
     "data": {
      "text/html": [
       "<div>\n",
       "<style scoped>\n",
       "    .dataframe tbody tr th:only-of-type {\n",
       "        vertical-align: middle;\n",
       "    }\n",
       "\n",
       "    .dataframe tbody tr th {\n",
       "        vertical-align: top;\n",
       "    }\n",
       "\n",
       "    .dataframe thead th {\n",
       "        text-align: right;\n",
       "    }\n",
       "</style>\n",
       "<table border=\"1\" class=\"dataframe\">\n",
       "  <thead>\n",
       "    <tr style=\"text-align: right;\">\n",
       "      <th></th>\n",
       "      <th>prd_id</th>\n",
       "      <th>prd_key</th>\n",
       "      <th>prd_nm</th>\n",
       "      <th>prd_cost</th>\n",
       "      <th>prd_line</th>\n",
       "      <th>prd_start_dt</th>\n",
       "      <th>prd_end_dt</th>\n",
       "    </tr>\n",
       "  </thead>\n",
       "  <tbody>\n",
       "    <tr>\n",
       "      <th>0</th>\n",
       "      <td>210</td>\n",
       "      <td>CO-RF-FR-R92B-58</td>\n",
       "      <td>HL Road Frame - Black- 58</td>\n",
       "      <td>0</td>\n",
       "      <td>R</td>\n",
       "      <td>2003-07-01</td>\n",
       "      <td>1899-12-30</td>\n",
       "    </tr>\n",
       "    <tr>\n",
       "      <th>1</th>\n",
       "      <td>211</td>\n",
       "      <td>CO-RF-FR-R92R-58</td>\n",
       "      <td>HL Road Frame - Red- 58</td>\n",
       "      <td>0</td>\n",
       "      <td>R</td>\n",
       "      <td>2003-07-01</td>\n",
       "      <td>1899-12-30</td>\n",
       "    </tr>\n",
       "    <tr>\n",
       "      <th>2</th>\n",
       "      <td>212</td>\n",
       "      <td>AC-HE-HL-U509-R</td>\n",
       "      <td>Sport-100 Helmet- Red</td>\n",
       "      <td>12</td>\n",
       "      <td>S</td>\n",
       "      <td>2011-07-01</td>\n",
       "      <td>2007-12-28</td>\n",
       "    </tr>\n",
       "    <tr>\n",
       "      <th>3</th>\n",
       "      <td>213</td>\n",
       "      <td>AC-HE-HL-U509-R</td>\n",
       "      <td>Sport-100 Helmet- Red</td>\n",
       "      <td>14</td>\n",
       "      <td>S</td>\n",
       "      <td>2012-07-01</td>\n",
       "      <td>2008-12-27</td>\n",
       "    </tr>\n",
       "    <tr>\n",
       "      <th>4</th>\n",
       "      <td>214</td>\n",
       "      <td>AC-HE-HL-U509-R</td>\n",
       "      <td>Sport-100 Helmet- Red</td>\n",
       "      <td>13</td>\n",
       "      <td>S</td>\n",
       "      <td>2013-07-01</td>\n",
       "      <td>1899-12-30</td>\n",
       "    </tr>\n",
       "    <tr>\n",
       "      <th>...</th>\n",
       "      <td>...</td>\n",
       "      <td>...</td>\n",
       "      <td>...</td>\n",
       "      <td>...</td>\n",
       "      <td>...</td>\n",
       "      <td>...</td>\n",
       "      <td>...</td>\n",
       "    </tr>\n",
       "    <tr>\n",
       "      <th>392</th>\n",
       "      <td>602</td>\n",
       "      <td>CO-BB-BB-8107</td>\n",
       "      <td>ML Bottom Bracket</td>\n",
       "      <td>45</td>\n",
       "      <td></td>\n",
       "      <td>2013-07-01</td>\n",
       "      <td>1899-12-30</td>\n",
       "    </tr>\n",
       "    <tr>\n",
       "      <th>393</th>\n",
       "      <td>603</td>\n",
       "      <td>CO-BB-BB-9108</td>\n",
       "      <td>HL Bottom Bracket</td>\n",
       "      <td>54</td>\n",
       "      <td></td>\n",
       "      <td>2013-07-01</td>\n",
       "      <td>1899-12-30</td>\n",
       "    </tr>\n",
       "    <tr>\n",
       "      <th>394</th>\n",
       "      <td>604</td>\n",
       "      <td>BI-RB-BK-R19B-44</td>\n",
       "      <td>Road-750 Black- 44</td>\n",
       "      <td>344</td>\n",
       "      <td>R</td>\n",
       "      <td>2013-07-01</td>\n",
       "      <td>1899-12-30</td>\n",
       "    </tr>\n",
       "    <tr>\n",
       "      <th>395</th>\n",
       "      <td>605</td>\n",
       "      <td>BI-RB-BK-R19B-48</td>\n",
       "      <td>Road-750 Black- 48</td>\n",
       "      <td>344</td>\n",
       "      <td>R</td>\n",
       "      <td>2013-07-01</td>\n",
       "      <td>1899-12-30</td>\n",
       "    </tr>\n",
       "    <tr>\n",
       "      <th>396</th>\n",
       "      <td>606</td>\n",
       "      <td>BI-RB-BK-R19B-52</td>\n",
       "      <td>Road-750 Black- 52</td>\n",
       "      <td>344</td>\n",
       "      <td>R</td>\n",
       "      <td>2013-07-01</td>\n",
       "      <td>1899-12-30</td>\n",
       "    </tr>\n",
       "  </tbody>\n",
       "</table>\n",
       "<p>397 rows × 7 columns</p>\n",
       "</div>"
      ],
      "text/plain": [
       "     prd_id           prd_key                     prd_nm  prd_cost prd_line  \\\n",
       "0       210  CO-RF-FR-R92B-58  HL Road Frame - Black- 58         0       R    \n",
       "1       211  CO-RF-FR-R92R-58    HL Road Frame - Red- 58         0       R    \n",
       "2       212   AC-HE-HL-U509-R      Sport-100 Helmet- Red        12       S    \n",
       "3       213   AC-HE-HL-U509-R      Sport-100 Helmet- Red        14       S    \n",
       "4       214   AC-HE-HL-U509-R      Sport-100 Helmet- Red        13       S    \n",
       "..      ...               ...                        ...       ...      ...   \n",
       "392     602     CO-BB-BB-8107          ML Bottom Bracket        45            \n",
       "393     603     CO-BB-BB-9108          HL Bottom Bracket        54            \n",
       "394     604  BI-RB-BK-R19B-44         Road-750 Black- 44       344       R    \n",
       "395     605  BI-RB-BK-R19B-48         Road-750 Black- 48       344       R    \n",
       "396     606  BI-RB-BK-R19B-52         Road-750 Black- 52       344       R    \n",
       "\n",
       "    prd_start_dt prd_end_dt  \n",
       "0     2003-07-01 1899-12-30  \n",
       "1     2003-07-01 1899-12-30  \n",
       "2     2011-07-01 2007-12-28  \n",
       "3     2012-07-01 2008-12-27  \n",
       "4     2013-07-01 1899-12-30  \n",
       "..           ...        ...  \n",
       "392   2013-07-01 1899-12-30  \n",
       "393   2013-07-01 1899-12-30  \n",
       "394   2013-07-01 1899-12-30  \n",
       "395   2013-07-01 1899-12-30  \n",
       "396   2013-07-01 1899-12-30  \n",
       "\n",
       "[397 rows x 7 columns]"
      ]
     },
     "execution_count": 102,
     "metadata": {},
     "output_type": "execute_result"
    }
   ],
   "source": [
    "# Read the products table from sql server\n",
    "cur,con = connect_database()\n",
    "query = \"select * from bronze.crm_products ;\"\n",
    "df_products = pd.read_sql(query, con)\n",
    "\n",
    "# Display the DataFrame\n",
    "df_products"
   ]
  },
  {
   "cell_type": "code",
   "execution_count": 103,
   "metadata": {},
   "outputs": [
    {
     "name": "stdout",
     "output_type": "stream",
     "text": [
      "0\n"
     ]
    }
   ],
   "source": [
    "# check if prd_id_key is unique\n",
    "print(df_products['prd_id'].duplicated().sum())"
   ]
  },
  {
   "cell_type": "code",
   "execution_count": 104,
   "metadata": {},
   "outputs": [
    {
     "data": {
      "image/png": "[encoded data removed]",
      "text/plain": [
       "<Figure size 600x400 with 1 Axes>"
      ]
     },
     "metadata": {},
     "output_type": "display_data"
    }
   ],
   "source": [
    "plt.figure(figsize=(6,4))\n",
    "plt.title('Products null values')\n",
    "sns.heatmap(df_products.isna(),cbar=False)\n",
    "plt.show()\n"
   ]
  },
  {
   "cell_type": "code",
   "execution_count": 105,
   "metadata": {},
   "outputs": [
    {
     "name": "stdout",
     "output_type": "stream",
     "text": [
      "<class 'pandas.core.frame.DataFrame'>\n",
      "RangeIndex: 397 entries, 0 to 396\n",
      "Data columns (total 7 columns):\n",
      " #   Column        Non-Null Count  Dtype         \n",
      "---  ------        --------------  -----         \n",
      " 0   prd_id        397 non-null    int64         \n",
      " 1   prd_key       397 non-null    object        \n",
      " 2   prd_nm        397 non-null    object        \n",
      " 3   prd_cost      397 non-null    int64         \n",
      " 4   prd_line      397 non-null    object        \n",
      " 5   prd_start_dt  397 non-null    datetime64[ns]\n",
      " 6   prd_end_dt    397 non-null    datetime64[ns]\n",
      "dtypes: datetime64[ns](2), int64(2), object(3)\n",
      "memory usage: 21.8+ KB\n"
     ]
    }
   ],
   "source": [
    "df_products.info()\n"
   ]
  },
  {
   "cell_type": "code",
   "execution_count": 106,
   "metadata": {},
   "outputs": [
    {
     "data": {
      "text/html": [
       "<div>\n",
       "<style scoped>\n",
       "    .dataframe tbody tr th:only-of-type {\n",
       "        vertical-align: middle;\n",
       "    }\n",
       "\n",
       "    .dataframe tbody tr th {\n",
       "        vertical-align: top;\n",
       "    }\n",
       "\n",
       "    .dataframe thead th {\n",
       "        text-align: right;\n",
       "    }\n",
       "</style>\n",
       "<table border=\"1\" class=\"dataframe\">\n",
       "  <thead>\n",
       "    <tr style=\"text-align: right;\">\n",
       "      <th></th>\n",
       "      <th>prd_id</th>\n",
       "      <th>prd_key</th>\n",
       "      <th>prd_nm</th>\n",
       "      <th>prd_cost</th>\n",
       "      <th>prd_line</th>\n",
       "      <th>prd_start_dt</th>\n",
       "      <th>prd_end_dt</th>\n",
       "      <th>cat_id</th>\n",
       "    </tr>\n",
       "  </thead>\n",
       "  <tbody>\n",
       "    <tr>\n",
       "      <th>0</th>\n",
       "      <td>210</td>\n",
       "      <td>FR-R92B-58</td>\n",
       "      <td>HL Road Frame - Black- 58</td>\n",
       "      <td>0</td>\n",
       "      <td>R</td>\n",
       "      <td>2003-07-01</td>\n",
       "      <td>1899-12-30</td>\n",
       "      <td>CO_RF</td>\n",
       "    </tr>\n",
       "    <tr>\n",
       "      <th>1</th>\n",
       "      <td>211</td>\n",
       "      <td>FR-R92R-58</td>\n",
       "      <td>HL Road Frame - Red- 58</td>\n",
       "      <td>0</td>\n",
       "      <td>R</td>\n",
       "      <td>2003-07-01</td>\n",
       "      <td>1899-12-30</td>\n",
       "      <td>CO_RF</td>\n",
       "    </tr>\n",
       "    <tr>\n",
       "      <th>2</th>\n",
       "      <td>212</td>\n",
       "      <td>HL-U509-R</td>\n",
       "      <td>Sport-100 Helmet- Red</td>\n",
       "      <td>12</td>\n",
       "      <td>S</td>\n",
       "      <td>2011-07-01</td>\n",
       "      <td>2007-12-28</td>\n",
       "      <td>AC_HE</td>\n",
       "    </tr>\n",
       "    <tr>\n",
       "      <th>3</th>\n",
       "      <td>213</td>\n",
       "      <td>HL-U509-R</td>\n",
       "      <td>Sport-100 Helmet- Red</td>\n",
       "      <td>14</td>\n",
       "      <td>S</td>\n",
       "      <td>2012-07-01</td>\n",
       "      <td>2008-12-27</td>\n",
       "      <td>AC_HE</td>\n",
       "    </tr>\n",
       "    <tr>\n",
       "      <th>4</th>\n",
       "      <td>214</td>\n",
       "      <td>HL-U509-R</td>\n",
       "      <td>Sport-100 Helmet- Red</td>\n",
       "      <td>13</td>\n",
       "      <td>S</td>\n",
       "      <td>2013-07-01</td>\n",
       "      <td>1899-12-30</td>\n",
       "      <td>AC_HE</td>\n",
       "    </tr>\n",
       "  </tbody>\n",
       "</table>\n",
       "</div>"
      ],
      "text/plain": [
       "   prd_id     prd_key                     prd_nm  prd_cost prd_line  \\\n",
       "0     210  FR-R92B-58  HL Road Frame - Black- 58         0       R    \n",
       "1     211  FR-R92R-58    HL Road Frame - Red- 58         0       R    \n",
       "2     212   HL-U509-R      Sport-100 Helmet- Red        12       S    \n",
       "3     213   HL-U509-R      Sport-100 Helmet- Red        14       S    \n",
       "4     214   HL-U509-R      Sport-100 Helmet- Red        13       S    \n",
       "\n",
       "  prd_start_dt prd_end_dt cat_id  \n",
       "0   2003-07-01 1899-12-30  CO_RF  \n",
       "1   2003-07-01 1899-12-30  CO_RF  \n",
       "2   2011-07-01 2007-12-28  AC_HE  \n",
       "3   2012-07-01 2008-12-27  AC_HE  \n",
       "4   2013-07-01 1899-12-30  AC_HE  "
      ]
     },
     "execution_count": 106,
     "metadata": {},
     "output_type": "execute_result"
    }
   ],
   "source": [
    "\n",
    "# --------- I have  to split prd_key into ( cat_id : first 4 caracters and prd_key the reminders characters\n",
    "# --------  the original prd_key will receive the chracters from 6th \n",
    "\n",
    "df_products['cat_id'] = df_products['prd_key'].str[:5]\n",
    "# in bronze.erp_category the cat_id column has underscore instead of dash, so we have to replaced\n",
    "df_products['cat_id'] = df_products['cat_id'].replace('-', '_', regex=True)\n",
    "df_products['prd_key'] = df_products['prd_key'].str[6:]\n",
    "df_products.head()"
   ]
  },
  {
   "cell_type": "code",
   "execution_count": 108,
   "metadata": {},
   "outputs": [
    {
     "data": {
      "text/html": [
       "<div>\n",
       "<style scoped>\n",
       "    .dataframe tbody tr th:only-of-type {\n",
       "        vertical-align: middle;\n",
       "    }\n",
       "\n",
       "    .dataframe tbody tr th {\n",
       "        vertical-align: top;\n",
       "    }\n",
       "\n",
       "    .dataframe thead th {\n",
       "        text-align: right;\n",
       "    }\n",
       "</style>\n",
       "<table border=\"1\" class=\"dataframe\">\n",
       "  <thead>\n",
       "    <tr style=\"text-align: right;\">\n",
       "      <th></th>\n",
       "      <th>prd_id</th>\n",
       "      <th>prd_key</th>\n",
       "      <th>prd_nm</th>\n",
       "      <th>prd_cost</th>\n",
       "      <th>prd_line</th>\n",
       "      <th>prd_start_dt</th>\n",
       "      <th>prd_end_dt</th>\n",
       "      <th>cat_id</th>\n",
       "    </tr>\n",
       "  </thead>\n",
       "  <tbody>\n",
       "  </tbody>\n",
       "</table>\n",
       "</div>"
      ],
      "text/plain": [
       "Empty DataFrame\n",
       "Columns: [prd_id, prd_key, prd_nm, prd_cost, prd_line, prd_start_dt, prd_end_dt, cat_id]\n",
       "Index: []"
      ]
     },
     "execution_count": 108,
     "metadata": {},
     "output_type": "execute_result"
    }
   ],
   "source": [
    "# check if prd_cost is negative\n",
    "df_products[df_products['prd_cost'] < 0]"
   ]
  },
  {
   "cell_type": "code",
   "execution_count": 109,
   "metadata": {},
   "outputs": [
    {
     "name": "stdout",
     "output_type": "stream",
     "text": [
      "0\n"
     ]
    }
   ],
   "source": [
    "print(df_products['prd_cost'].isna().sum())"
   ]
  },
  {
   "cell_type": "code",
   "execution_count": 110,
   "metadata": {},
   "outputs": [
    {
     "data": {
      "text/plain": [
       "array(['R ', 'S ', 'M ', '', 'T '], dtype=object)"
      ]
     },
     "execution_count": 110,
     "metadata": {},
     "output_type": "execute_result"
    }
   ],
   "source": [
    "# check distinct values of prd_line column\n",
    "df_products['prd_line'].unique()"
   ]
  },
  {
   "cell_type": "code",
   "execution_count": 111,
   "metadata": {},
   "outputs": [],
   "source": [
    "# delete left and rigth spaces\n",
    "df_products['prd_line'] = df_products['prd_line'].str.strip()"
   ]
  },
  {
   "cell_type": "code",
   "execution_count": 112,
   "metadata": {},
   "outputs": [
    {
     "data": {
      "text/plain": [
       "array(['R', 'S', 'M', '', 'T'], dtype=object)"
      ]
     },
     "execution_count": 112,
     "metadata": {},
     "output_type": "execute_result"
    }
   ],
   "source": [
    "df_products['prd_line'].unique()"
   ]
  },
  {
   "cell_type": "code",
   "execution_count": 113,
   "metadata": {},
   "outputs": [],
   "source": [
    "# replace abreviation M, S  , R , T \n",
    "df_products['prd_line']=df_products['prd_line'].replace('M','Mountain')\n",
    "df_products['prd_line']=df_products['prd_line'].replace('S','Sport')\n",
    "df_products['prd_line']=df_products['prd_line'].replace('T','Touring')\n",
    "df_products['prd_line']=df_products['prd_line'].replace('R','Road')\n",
    "df_products['prd_line']=df_products['prd_line'].replace('','None')"
   ]
  },
  {
   "cell_type": "code",
   "execution_count": 114,
   "metadata": {},
   "outputs": [
    {
     "data": {
      "text/plain": [
       "array(['Road', 'Sport', 'Mountain', 'None', 'Touring'], dtype=object)"
      ]
     },
     "execution_count": 114,
     "metadata": {},
     "output_type": "execute_result"
    }
   ],
   "source": [
    "# verify  distince values in prd_line record\n",
    "df_products['prd_line'].unique()\n"
   ]
  },
  {
   "cell_type": "code",
   "execution_count": 115,
   "metadata": {},
   "outputs": [
    {
     "data": {
      "text/plain": [
       "0      True\n",
       "1      True\n",
       "2      True\n",
       "3      True\n",
       "4      True\n",
       "       ... \n",
       "392    True\n",
       "393    True\n",
       "394    True\n",
       "395    True\n",
       "396    True\n",
       "Length: 397, dtype: bool"
      ]
     },
     "execution_count": 115,
     "metadata": {},
     "output_type": "execute_result"
    }
   ],
   "source": [
    "# check prd_start_date and prd_end_date\n",
    "df_products['prd_end_dt'] < df_products['prd_start_dt']"
   ]
  },
  {
   "cell_type": "code",
   "execution_count": 116,
   "metadata": {},
   "outputs": [],
   "source": [
    "# the prd_start_dt  must be before the prd_end_dt \n",
    "# Sort by prd_key and prd_start_dt (required for LEAD functionality)\n",
    "df_products = df_products.sort_values(by=['prd_key', 'prd_start_dt'])\n",
    "\n",
    "# Shift prd_start_dt to get the next row's prd_start_dt, then subtract 1 day to calculate prd_end_dt\n",
    "df_products['prd_end_dt'] = df_products.groupby('prd_key')['prd_start_dt'].shift(-1) - pd.Timedelta(days=1)"
   ]
  },
  {
   "cell_type": "code",
   "execution_count": 117,
   "metadata": {},
   "outputs": [
    {
     "data": {
      "text/html": [
       "<div>\n",
       "<style scoped>\n",
       "    .dataframe tbody tr th:only-of-type {\n",
       "        vertical-align: middle;\n",
       "    }\n",
       "\n",
       "    .dataframe tbody tr th {\n",
       "        vertical-align: top;\n",
       "    }\n",
       "\n",
       "    .dataframe thead th {\n",
       "        text-align: right;\n",
       "    }\n",
       "</style>\n",
       "<table border=\"1\" class=\"dataframe\">\n",
       "  <thead>\n",
       "    <tr style=\"text-align: right;\">\n",
       "      <th></th>\n",
       "      <th>prd_id</th>\n",
       "      <th>prd_key</th>\n",
       "      <th>prd_nm</th>\n",
       "      <th>prd_cost</th>\n",
       "      <th>prd_line</th>\n",
       "      <th>prd_start_dt</th>\n",
       "      <th>prd_end_dt</th>\n",
       "      <th>cat_id</th>\n",
       "    </tr>\n",
       "  </thead>\n",
       "  <tbody>\n",
       "    <tr>\n",
       "      <th>5</th>\n",
       "      <td>215</td>\n",
       "      <td>HL-U509</td>\n",
       "      <td>Sport-100 Helmet- Black</td>\n",
       "      <td>12</td>\n",
       "      <td>Sport</td>\n",
       "      <td>2011-07-01</td>\n",
       "      <td>2012-06-30</td>\n",
       "      <td>AC_HE</td>\n",
       "    </tr>\n",
       "  </tbody>\n",
       "</table>\n",
       "</div>"
      ],
      "text/plain": [
       "   prd_id  prd_key                   prd_nm  prd_cost prd_line prd_start_dt  \\\n",
       "5     215  HL-U509  Sport-100 Helmet- Black        12    Sport   2011-07-01   \n",
       "\n",
       "  prd_end_dt cat_id  \n",
       "5 2012-06-30  AC_HE  "
      ]
     },
     "execution_count": 117,
     "metadata": {},
     "output_type": "execute_result"
    }
   ],
   "source": [
    "# verify start date is  before end date\n",
    "df_products[df_products['prd_id']==215]\n"
   ]
  },
  {
   "cell_type": "code",
   "execution_count": 118,
   "metadata": {},
   "outputs": [
    {
     "data": {
      "text/html": [
       "<div>\n",
       "<style scoped>\n",
       "    .dataframe tbody tr th:only-of-type {\n",
       "        vertical-align: middle;\n",
       "    }\n",
       "\n",
       "    .dataframe tbody tr th {\n",
       "        vertical-align: top;\n",
       "    }\n",
       "\n",
       "    .dataframe thead th {\n",
       "        text-align: right;\n",
       "    }\n",
       "</style>\n",
       "<table border=\"1\" class=\"dataframe\">\n",
       "  <thead>\n",
       "    <tr style=\"text-align: right;\">\n",
       "      <th></th>\n",
       "      <th>prd_id</th>\n",
       "      <th>prd_key</th>\n",
       "      <th>prd_nm</th>\n",
       "      <th>prd_cost</th>\n",
       "      <th>prd_line</th>\n",
       "      <th>prd_start_dt</th>\n",
       "      <th>prd_end_dt</th>\n",
       "      <th>cat_id</th>\n",
       "    </tr>\n",
       "  </thead>\n",
       "  <tbody>\n",
       "    <tr>\n",
       "      <th>6</th>\n",
       "      <td>216</td>\n",
       "      <td>HL-U509</td>\n",
       "      <td>Sport-100 Helmet- Black</td>\n",
       "      <td>14</td>\n",
       "      <td>Sport</td>\n",
       "      <td>2012-07-01</td>\n",
       "      <td>2013-06-30</td>\n",
       "      <td>AC_HE</td>\n",
       "    </tr>\n",
       "  </tbody>\n",
       "</table>\n",
       "</div>"
      ],
      "text/plain": [
       "   prd_id  prd_key                   prd_nm  prd_cost prd_line prd_start_dt  \\\n",
       "6     216  HL-U509  Sport-100 Helmet- Black        14    Sport   2012-07-01   \n",
       "\n",
       "  prd_end_dt cat_id  \n",
       "6 2013-06-30  AC_HE  "
      ]
     },
     "execution_count": 118,
     "metadata": {},
     "output_type": "execute_result"
    }
   ],
   "source": [
    "# verify start date is  before end date\n",
    "df_products[df_products['prd_id']==216]"
   ]
  },
  {
   "cell_type": "code",
   "execution_count": 119,
   "metadata": {},
   "outputs": [
    {
     "name": "stdout",
     "output_type": "stream",
     "text": [
      "295\n"
     ]
    }
   ],
   "source": [
    "print(df_products['prd_end_dt'].isna().sum())"
   ]
  },
  {
   "cell_type": "code",
   "execution_count": 120,
   "metadata": {},
   "outputs": [],
   "source": [
    "# Now replace NaT (invalid or missing dates) with the result of getdat()\n",
    "from datetime import datetime\n",
    "df_products['prd_end_dt'] = df_products['prd_end_dt'].apply(\n",
    "    lambda x: datetime.now() if pd.isna(x) else x\n",
    ")"
   ]
  },
  {
   "cell_type": "code",
   "execution_count": 121,
   "metadata": {},
   "outputs": [
    {
     "name": "stdout",
     "output_type": "stream",
     "text": [
      "0\n"
     ]
    }
   ],
   "source": [
    "print(df_products['prd_end_dt'].isna().sum())"
   ]
  },
  {
   "cell_type": "code",
   "execution_count": 122,
   "metadata": {},
   "outputs": [
    {
     "data": {
      "text/html": [
       "<div>\n",
       "<style scoped>\n",
       "    .dataframe tbody tr th:only-of-type {\n",
       "        vertical-align: middle;\n",
       "    }\n",
       "\n",
       "    .dataframe tbody tr th {\n",
       "        vertical-align: top;\n",
       "    }\n",
       "\n",
       "    .dataframe thead th {\n",
       "        text-align: right;\n",
       "    }\n",
       "</style>\n",
       "<table border=\"1\" class=\"dataframe\">\n",
       "  <thead>\n",
       "    <tr style=\"text-align: right;\">\n",
       "      <th></th>\n",
       "      <th>prd_id</th>\n",
       "      <th>prd_key</th>\n",
       "      <th>prd_nm</th>\n",
       "      <th>prd_cost</th>\n",
       "      <th>prd_line</th>\n",
       "      <th>prd_start_dt</th>\n",
       "      <th>prd_end_dt</th>\n",
       "      <th>cat_id</th>\n",
       "    </tr>\n",
       "  </thead>\n",
       "  <tbody>\n",
       "    <tr>\n",
       "      <th>391</th>\n",
       "      <td>601</td>\n",
       "      <td>BB-7421</td>\n",
       "      <td>LL Bottom Bracket</td>\n",
       "      <td>24</td>\n",
       "      <td>None</td>\n",
       "      <td>2013-07-01</td>\n",
       "      <td>2025-04-16 12:00:29.528322</td>\n",
       "      <td>CO_BB</td>\n",
       "    </tr>\n",
       "    <tr>\n",
       "      <th>392</th>\n",
       "      <td>602</td>\n",
       "      <td>BB-8107</td>\n",
       "      <td>ML Bottom Bracket</td>\n",
       "      <td>45</td>\n",
       "      <td>None</td>\n",
       "      <td>2013-07-01</td>\n",
       "      <td>2025-04-16 12:00:29.528322</td>\n",
       "      <td>CO_BB</td>\n",
       "    </tr>\n",
       "    <tr>\n",
       "      <th>393</th>\n",
       "      <td>603</td>\n",
       "      <td>BB-9108</td>\n",
       "      <td>HL Bottom Bracket</td>\n",
       "      <td>54</td>\n",
       "      <td>None</td>\n",
       "      <td>2013-07-01</td>\n",
       "      <td>2025-04-16 12:00:29.528322</td>\n",
       "      <td>CO_BB</td>\n",
       "    </tr>\n",
       "    <tr>\n",
       "      <th>268</th>\n",
       "      <td>478</td>\n",
       "      <td>BC-M005</td>\n",
       "      <td>Mountain Bottle Cage</td>\n",
       "      <td>4</td>\n",
       "      <td>Mountain</td>\n",
       "      <td>2013-07-01</td>\n",
       "      <td>2025-04-16 12:00:29.528322</td>\n",
       "      <td>AC_BC</td>\n",
       "    </tr>\n",
       "    <tr>\n",
       "      <th>269</th>\n",
       "      <td>479</td>\n",
       "      <td>BC-R205</td>\n",
       "      <td>Road Bottle Cage</td>\n",
       "      <td>3</td>\n",
       "      <td>Road</td>\n",
       "      <td>2013-07-01</td>\n",
       "      <td>2025-04-16 12:00:29.528322</td>\n",
       "      <td>AC_BC</td>\n",
       "    </tr>\n",
       "    <tr>\n",
       "      <th>...</th>\n",
       "      <td>...</td>\n",
       "      <td>...</td>\n",
       "      <td>...</td>\n",
       "      <td>...</td>\n",
       "      <td>...</td>\n",
       "      <td>...</td>\n",
       "      <td>...</td>\n",
       "      <td>...</td>\n",
       "    </tr>\n",
       "    <tr>\n",
       "      <th>320</th>\n",
       "      <td>530</td>\n",
       "      <td>TT-T092</td>\n",
       "      <td>Touring Tire Tube</td>\n",
       "      <td>2</td>\n",
       "      <td>Touring</td>\n",
       "      <td>2013-07-01</td>\n",
       "      <td>2025-04-16 12:00:29.529322</td>\n",
       "      <td>AC_TT</td>\n",
       "    </tr>\n",
       "    <tr>\n",
       "      <th>263</th>\n",
       "      <td>473</td>\n",
       "      <td>VE-C304-L</td>\n",
       "      <td>Classic Vest- L</td>\n",
       "      <td>24</td>\n",
       "      <td>Sport</td>\n",
       "      <td>2013-07-01</td>\n",
       "      <td>2025-04-16 12:00:29.529322</td>\n",
       "      <td>CL_VE</td>\n",
       "    </tr>\n",
       "    <tr>\n",
       "      <th>262</th>\n",
       "      <td>472</td>\n",
       "      <td>VE-C304-M</td>\n",
       "      <td>Classic Vest- M</td>\n",
       "      <td>24</td>\n",
       "      <td>Sport</td>\n",
       "      <td>2013-07-01</td>\n",
       "      <td>2025-04-16 12:00:29.529322</td>\n",
       "      <td>CL_VE</td>\n",
       "    </tr>\n",
       "    <tr>\n",
       "      <th>261</th>\n",
       "      <td>471</td>\n",
       "      <td>VE-C304-S</td>\n",
       "      <td>Classic Vest- S</td>\n",
       "      <td>24</td>\n",
       "      <td>Sport</td>\n",
       "      <td>2013-07-01</td>\n",
       "      <td>2025-04-16 12:00:29.529322</td>\n",
       "      <td>CL_VE</td>\n",
       "    </tr>\n",
       "    <tr>\n",
       "      <th>267</th>\n",
       "      <td>477</td>\n",
       "      <td>WB-H098</td>\n",
       "      <td>Water Bottle - 30 oz.</td>\n",
       "      <td>2</td>\n",
       "      <td>Sport</td>\n",
       "      <td>2013-07-01</td>\n",
       "      <td>2025-04-16 12:00:29.529322</td>\n",
       "      <td>AC_BC</td>\n",
       "    </tr>\n",
       "  </tbody>\n",
       "</table>\n",
       "<p>397 rows × 8 columns</p>\n",
       "</div>"
      ],
      "text/plain": [
       "     prd_id    prd_key                 prd_nm  prd_cost  prd_line  \\\n",
       "391     601    BB-7421      LL Bottom Bracket        24      None   \n",
       "392     602    BB-8107      ML Bottom Bracket        45      None   \n",
       "393     603    BB-9108      HL Bottom Bracket        54      None   \n",
       "268     478    BC-M005   Mountain Bottle Cage         4  Mountain   \n",
       "269     479    BC-R205       Road Bottle Cage         3      Road   \n",
       "..      ...        ...                    ...       ...       ...   \n",
       "320     530    TT-T092      Touring Tire Tube         2   Touring   \n",
       "263     473  VE-C304-L        Classic Vest- L        24     Sport   \n",
       "262     472  VE-C304-M        Classic Vest- M        24     Sport   \n",
       "261     471  VE-C304-S        Classic Vest- S        24     Sport   \n",
       "267     477    WB-H098  Water Bottle - 30 oz.         2     Sport   \n",
       "\n",
       "    prd_start_dt                 prd_end_dt cat_id  \n",
       "391   2013-07-01 2025-04-16 12:00:29.528322  CO_BB  \n",
       "392   2013-07-01 2025-04-16 12:00:29.528322  CO_BB  \n",
       "393   2013-07-01 2025-04-16 12:00:29.528322  CO_BB  \n",
       "268   2013-07-01 2025-04-16 12:00:29.528322  AC_BC  \n",
       "269   2013-07-01 2025-04-16 12:00:29.528322  AC_BC  \n",
       "..           ...                        ...    ...  \n",
       "320   2013-07-01 2025-04-16 12:00:29.529322  AC_TT  \n",
       "263   2013-07-01 2025-04-16 12:00:29.529322  CL_VE  \n",
       "262   2013-07-01 2025-04-16 12:00:29.529322  CL_VE  \n",
       "261   2013-07-01 2025-04-16 12:00:29.529322  CL_VE  \n",
       "267   2013-07-01 2025-04-16 12:00:29.529322  AC_BC  \n",
       "\n",
       "[397 rows x 8 columns]"
      ]
     },
     "execution_count": 122,
     "metadata": {},
     "output_type": "execute_result"
    }
   ],
   "source": [
    "df_products"
   ]
  },
  {
   "cell_type": "code",
   "execution_count": 123,
   "metadata": {},
   "outputs": [],
   "source": [
    "# extract only date without time \n",
    "df_products['prd_end_dt'] = df_products['prd_end_dt'].dt.date"
   ]
  },
  {
   "cell_type": "code",
   "execution_count": 125,
   "metadata": {},
   "outputs": [
    {
     "data": {
      "text/html": [
       "<div>\n",
       "<style scoped>\n",
       "    .dataframe tbody tr th:only-of-type {\n",
       "        vertical-align: middle;\n",
       "    }\n",
       "\n",
       "    .dataframe tbody tr th {\n",
       "        vertical-align: top;\n",
       "    }\n",
       "\n",
       "    .dataframe thead th {\n",
       "        text-align: right;\n",
       "    }\n",
       "</style>\n",
       "<table border=\"1\" class=\"dataframe\">\n",
       "  <thead>\n",
       "    <tr style=\"text-align: right;\">\n",
       "      <th></th>\n",
       "      <th>prd_id</th>\n",
       "      <th>prd_key</th>\n",
       "      <th>prd_nm</th>\n",
       "      <th>prd_cost</th>\n",
       "      <th>prd_line</th>\n",
       "      <th>prd_start_dt</th>\n",
       "      <th>prd_end_dt</th>\n",
       "      <th>cat_id</th>\n",
       "    </tr>\n",
       "  </thead>\n",
       "  <tbody>\n",
       "    <tr>\n",
       "      <th>391</th>\n",
       "      <td>601</td>\n",
       "      <td>BB-7421</td>\n",
       "      <td>LL Bottom Bracket</td>\n",
       "      <td>24</td>\n",
       "      <td>None</td>\n",
       "      <td>2013-07-01</td>\n",
       "      <td>2025-04-16</td>\n",
       "      <td>CO_BB</td>\n",
       "    </tr>\n",
       "    <tr>\n",
       "      <th>392</th>\n",
       "      <td>602</td>\n",
       "      <td>BB-8107</td>\n",
       "      <td>ML Bottom Bracket</td>\n",
       "      <td>45</td>\n",
       "      <td>None</td>\n",
       "      <td>2013-07-01</td>\n",
       "      <td>2025-04-16</td>\n",
       "      <td>CO_BB</td>\n",
       "    </tr>\n",
       "    <tr>\n",
       "      <th>393</th>\n",
       "      <td>603</td>\n",
       "      <td>BB-9108</td>\n",
       "      <td>HL Bottom Bracket</td>\n",
       "      <td>54</td>\n",
       "      <td>None</td>\n",
       "      <td>2013-07-01</td>\n",
       "      <td>2025-04-16</td>\n",
       "      <td>CO_BB</td>\n",
       "    </tr>\n",
       "    <tr>\n",
       "      <th>268</th>\n",
       "      <td>478</td>\n",
       "      <td>BC-M005</td>\n",
       "      <td>Mountain Bottle Cage</td>\n",
       "      <td>4</td>\n",
       "      <td>Mountain</td>\n",
       "      <td>2013-07-01</td>\n",
       "      <td>2025-04-16</td>\n",
       "      <td>AC_BC</td>\n",
       "    </tr>\n",
       "    <tr>\n",
       "      <th>269</th>\n",
       "      <td>479</td>\n",
       "      <td>BC-R205</td>\n",
       "      <td>Road Bottle Cage</td>\n",
       "      <td>3</td>\n",
       "      <td>Road</td>\n",
       "      <td>2013-07-01</td>\n",
       "      <td>2025-04-16</td>\n",
       "      <td>AC_BC</td>\n",
       "    </tr>\n",
       "    <tr>\n",
       "      <th>...</th>\n",
       "      <td>...</td>\n",
       "      <td>...</td>\n",
       "      <td>...</td>\n",
       "      <td>...</td>\n",
       "      <td>...</td>\n",
       "      <td>...</td>\n",
       "      <td>...</td>\n",
       "      <td>...</td>\n",
       "    </tr>\n",
       "    <tr>\n",
       "      <th>320</th>\n",
       "      <td>530</td>\n",
       "      <td>TT-T092</td>\n",
       "      <td>Touring Tire Tube</td>\n",
       "      <td>2</td>\n",
       "      <td>Touring</td>\n",
       "      <td>2013-07-01</td>\n",
       "      <td>2025-04-16</td>\n",
       "      <td>AC_TT</td>\n",
       "    </tr>\n",
       "    <tr>\n",
       "      <th>263</th>\n",
       "      <td>473</td>\n",
       "      <td>VE-C304-L</td>\n",
       "      <td>Classic Vest- L</td>\n",
       "      <td>24</td>\n",
       "      <td>Sport</td>\n",
       "      <td>2013-07-01</td>\n",
       "      <td>2025-04-16</td>\n",
       "      <td>CL_VE</td>\n",
       "    </tr>\n",
       "    <tr>\n",
       "      <th>262</th>\n",
       "      <td>472</td>\n",
       "      <td>VE-C304-M</td>\n",
       "      <td>Classic Vest- M</td>\n",
       "      <td>24</td>\n",
       "      <td>Sport</td>\n",
       "      <td>2013-07-01</td>\n",
       "      <td>2025-04-16</td>\n",
       "      <td>CL_VE</td>\n",
       "    </tr>\n",
       "    <tr>\n",
       "      <th>261</th>\n",
       "      <td>471</td>\n",
       "      <td>VE-C304-S</td>\n",
       "      <td>Classic Vest- S</td>\n",
       "      <td>24</td>\n",
       "      <td>Sport</td>\n",
       "      <td>2013-07-01</td>\n",
       "      <td>2025-04-16</td>\n",
       "      <td>CL_VE</td>\n",
       "    </tr>\n",
       "    <tr>\n",
       "      <th>267</th>\n",
       "      <td>477</td>\n",
       "      <td>WB-H098</td>\n",
       "      <td>Water Bottle - 30 oz.</td>\n",
       "      <td>2</td>\n",
       "      <td>Sport</td>\n",
       "      <td>2013-07-01</td>\n",
       "      <td>2025-04-16</td>\n",
       "      <td>AC_BC</td>\n",
       "    </tr>\n",
       "  </tbody>\n",
       "</table>\n",
       "<p>397 rows × 8 columns</p>\n",
       "</div>"
      ],
      "text/plain": [
       "     prd_id    prd_key                 prd_nm  prd_cost  prd_line  \\\n",
       "391     601    BB-7421      LL Bottom Bracket        24      None   \n",
       "392     602    BB-8107      ML Bottom Bracket        45      None   \n",
       "393     603    BB-9108      HL Bottom Bracket        54      None   \n",
       "268     478    BC-M005   Mountain Bottle Cage         4  Mountain   \n",
       "269     479    BC-R205       Road Bottle Cage         3      Road   \n",
       "..      ...        ...                    ...       ...       ...   \n",
       "320     530    TT-T092      Touring Tire Tube         2   Touring   \n",
       "263     473  VE-C304-L        Classic Vest- L        24     Sport   \n",
       "262     472  VE-C304-M        Classic Vest- M        24     Sport   \n",
       "261     471  VE-C304-S        Classic Vest- S        24     Sport   \n",
       "267     477    WB-H098  Water Bottle - 30 oz.         2     Sport   \n",
       "\n",
       "    prd_start_dt  prd_end_dt cat_id  \n",
       "391   2013-07-01  2025-04-16  CO_BB  \n",
       "392   2013-07-01  2025-04-16  CO_BB  \n",
       "393   2013-07-01  2025-04-16  CO_BB  \n",
       "268   2013-07-01  2025-04-16  AC_BC  \n",
       "269   2013-07-01  2025-04-16  AC_BC  \n",
       "..           ...         ...    ...  \n",
       "320   2013-07-01  2025-04-16  AC_TT  \n",
       "263   2013-07-01  2025-04-16  CL_VE  \n",
       "262   2013-07-01  2025-04-16  CL_VE  \n",
       "261   2013-07-01  2025-04-16  CL_VE  \n",
       "267   2013-07-01  2025-04-16  AC_BC  \n",
       "\n",
       "[397 rows x 8 columns]"
      ]
     },
     "execution_count": 125,
     "metadata": {},
     "output_type": "execute_result"
    }
   ],
   "source": [
    "df_products"
   ]
  },
  {
   "cell_type": "code",
   "execution_count": 126,
   "metadata": {},
   "outputs": [],
   "source": [
    "# truncate table before inserting records\n",
    "cur.execute('Truncate table silver.crm_products ')\n",
    "# sql for insert df_products into silver.crm_products\n",
    "silver_crm_products_insert=\"\"\" use DataWarehouse_Demo ;  INSERT INTO silver.crm_products (\n",
    "    prd_id ,\n",
    "\tprd_key ,\t\n",
    "\tprd_nm ,\n",
    "\tprd_cost ,\n",
    "\tprd_line ,\n",
    "\tprd_start_dt ,\n",
    "    prd_end_dt,\n",
    "\tcat_id \n",
    "\t\n",
    "    )  \n",
    "    values(?,?,?,?,?,?,?,?) \n",
    "\"\"\""
   ]
  },
  {
   "cell_type": "code",
   "execution_count": 127,
   "metadata": {},
   "outputs": [
    {
     "name": "stdout",
     "output_type": "stream",
     "text": [
      "Rows inserted successfully !\n",
      "database closed !\n"
     ]
    }
   ],
   "source": [
    "try:\n",
    "    for i , row in df_products.iterrows():\n",
    "        cur.execute(silver_crm_products_insert,list(row))\n",
    "        con.commit()\n",
    "    print(\"Rows inserted successfully !\")\n",
    "except:\n",
    "    print(\"Error to insert rows\")\n",
    "finally:\n",
    "    con.close()\n",
    "    print('database closed !')"
   ]
  },
  {
   "cell_type": "code",
   "execution_count": 184,
   "metadata": {},
   "outputs": [],
   "source": [
    "#-----------------------------------------------------------\n",
    "#                  load bronze.crm_sales\n",
    "# -------------------------*----------------------------------"
   ]
  },
  {
   "cell_type": "code",
   "execution_count": 155,
   "metadata": {},
   "outputs": [
    {
     "name": "stderr",
     "output_type": "stream",
     "text": [
      "C:\\Users\\b.azreg\\AppData\\Local\\Temp\\ipykernel_14796\\2266563158.py:4: UserWarning: pandas only supports SQLAlchemy connectable (engine/connection) or database string URI or sqlite3 DBAPI2 connection. Other DBAPI2 objects are not tested. Please consider using SQLAlchemy.\n",
      "  df_sales = pd.read_sql(query, con)\n"
     ]
    },
    {
     "data": {
      "text/html": [
       "<div>\n",
       "<style scoped>\n",
       "    .dataframe tbody tr th:only-of-type {\n",
       "        vertical-align: middle;\n",
       "    }\n",
       "\n",
       "    .dataframe tbody tr th {\n",
       "        vertical-align: top;\n",
       "    }\n",
       "\n",
       "    .dataframe thead th {\n",
       "        text-align: right;\n",
       "    }\n",
       "</style>\n",
       "<table border=\"1\" class=\"dataframe\">\n",
       "  <thead>\n",
       "    <tr style=\"text-align: right;\">\n",
       "      <th></th>\n",
       "      <th>sls_ord_num</th>\n",
       "      <th>sls_prd_key</th>\n",
       "      <th>sls_cust_id</th>\n",
       "      <th>sls_order_dt</th>\n",
       "      <th>sls_ship_dt</th>\n",
       "      <th>sls_due_dt</th>\n",
       "      <th>sls_sales</th>\n",
       "      <th>sls_quantity</th>\n",
       "      <th>sls_price</th>\n",
       "    </tr>\n",
       "  </thead>\n",
       "  <tbody>\n",
       "    <tr>\n",
       "      <th>0</th>\n",
       "      <td>SO43697</td>\n",
       "      <td>BK-R93R-62</td>\n",
       "      <td>21768</td>\n",
       "      <td>20101229</td>\n",
       "      <td>20110105</td>\n",
       "      <td>20110110</td>\n",
       "      <td>3578</td>\n",
       "      <td>1</td>\n",
       "      <td>3578</td>\n",
       "    </tr>\n",
       "    <tr>\n",
       "      <th>1</th>\n",
       "      <td>SO43698</td>\n",
       "      <td>BK-M82S-44</td>\n",
       "      <td>28389</td>\n",
       "      <td>20101229</td>\n",
       "      <td>20110105</td>\n",
       "      <td>20110110</td>\n",
       "      <td>3400</td>\n",
       "      <td>1</td>\n",
       "      <td>3400</td>\n",
       "    </tr>\n",
       "    <tr>\n",
       "      <th>2</th>\n",
       "      <td>SO43699</td>\n",
       "      <td>BK-M82S-44</td>\n",
       "      <td>25863</td>\n",
       "      <td>20101229</td>\n",
       "      <td>20110105</td>\n",
       "      <td>20110110</td>\n",
       "      <td>3400</td>\n",
       "      <td>1</td>\n",
       "      <td>3400</td>\n",
       "    </tr>\n",
       "    <tr>\n",
       "      <th>3</th>\n",
       "      <td>SO43700</td>\n",
       "      <td>BK-R50B-62</td>\n",
       "      <td>14501</td>\n",
       "      <td>20101229</td>\n",
       "      <td>20110105</td>\n",
       "      <td>20110110</td>\n",
       "      <td>699</td>\n",
       "      <td>1</td>\n",
       "      <td>699</td>\n",
       "    </tr>\n",
       "    <tr>\n",
       "      <th>4</th>\n",
       "      <td>SO43701</td>\n",
       "      <td>BK-M82S-44</td>\n",
       "      <td>11003</td>\n",
       "      <td>20101229</td>\n",
       "      <td>20110105</td>\n",
       "      <td>20110110</td>\n",
       "      <td>3400</td>\n",
       "      <td>1</td>\n",
       "      <td>3400</td>\n",
       "    </tr>\n",
       "    <tr>\n",
       "      <th>...</th>\n",
       "      <td>...</td>\n",
       "      <td>...</td>\n",
       "      <td>...</td>\n",
       "      <td>...</td>\n",
       "      <td>...</td>\n",
       "      <td>...</td>\n",
       "      <td>...</td>\n",
       "      <td>...</td>\n",
       "      <td>...</td>\n",
       "    </tr>\n",
       "    <tr>\n",
       "      <th>11994</th>\n",
       "      <td>SO54179</td>\n",
       "      <td>TT-R982</td>\n",
       "      <td>19550</td>\n",
       "      <td>20130310</td>\n",
       "      <td>20130317</td>\n",
       "      <td>20130322</td>\n",
       "      <td>4</td>\n",
       "      <td>1</td>\n",
       "      <td>4</td>\n",
       "    </tr>\n",
       "    <tr>\n",
       "      <th>11995</th>\n",
       "      <td>SO54179</td>\n",
       "      <td>RA-H123</td>\n",
       "      <td>19550</td>\n",
       "      <td>20130310</td>\n",
       "      <td>20130317</td>\n",
       "      <td>20130322</td>\n",
       "      <td>120</td>\n",
       "      <td>1</td>\n",
       "      <td>120</td>\n",
       "    </tr>\n",
       "    <tr>\n",
       "      <th>11996</th>\n",
       "      <td>SO54180</td>\n",
       "      <td>BK-R64Y-44</td>\n",
       "      <td>19679</td>\n",
       "      <td>20130310</td>\n",
       "      <td>20130317</td>\n",
       "      <td>20130322</td>\n",
       "      <td>1120</td>\n",
       "      <td>1</td>\n",
       "      <td>1120</td>\n",
       "    </tr>\n",
       "    <tr>\n",
       "      <th>11997</th>\n",
       "      <td>SO54180</td>\n",
       "      <td>HL-U509</td>\n",
       "      <td>19679</td>\n",
       "      <td>20130310</td>\n",
       "      <td>20130317</td>\n",
       "      <td>20130322</td>\n",
       "      <td>35</td>\n",
       "      <td>1</td>\n",
       "      <td>35</td>\n",
       "    </tr>\n",
       "    <tr>\n",
       "      <th>11998</th>\n",
       "      <td>SO54181</td>\n",
       "      <td>BK-R64Y-40</td>\n",
       "      <td>19386</td>\n",
       "      <td>20130310</td>\n",
       "      <td>20130317</td>\n",
       "      <td>20130322</td>\n",
       "      <td>1120</td>\n",
       "      <td>1</td>\n",
       "      <td>1120</td>\n",
       "    </tr>\n",
       "  </tbody>\n",
       "</table>\n",
       "<p>11999 rows × 9 columns</p>\n",
       "</div>"
      ],
      "text/plain": [
       "      sls_ord_num sls_prd_key  sls_cust_id  sls_order_dt  sls_ship_dt  \\\n",
       "0         SO43697  BK-R93R-62        21768      20101229     20110105   \n",
       "1         SO43698  BK-M82S-44        28389      20101229     20110105   \n",
       "2         SO43699  BK-M82S-44        25863      20101229     20110105   \n",
       "3         SO43700  BK-R50B-62        14501      20101229     20110105   \n",
       "4         SO43701  BK-M82S-44        11003      20101229     20110105   \n",
       "...           ...         ...          ...           ...          ...   \n",
       "11994     SO54179     TT-R982        19550      20130310     20130317   \n",
       "11995     SO54179     RA-H123        19550      20130310     20130317   \n",
       "11996     SO54180  BK-R64Y-44        19679      20130310     20130317   \n",
       "11997     SO54180     HL-U509        19679      20130310     20130317   \n",
       "11998     SO54181  BK-R64Y-40        19386      20130310     20130317   \n",
       "\n",
       "       sls_due_dt  sls_sales  sls_quantity  sls_price  \n",
       "0        20110110       3578             1       3578  \n",
       "1        20110110       3400             1       3400  \n",
       "2        20110110       3400             1       3400  \n",
       "3        20110110        699             1        699  \n",
       "4        20110110       3400             1       3400  \n",
       "...           ...        ...           ...        ...  \n",
       "11994    20130322          4             1          4  \n",
       "11995    20130322        120             1        120  \n",
       "11996    20130322       1120             1       1120  \n",
       "11997    20130322         35             1         35  \n",
       "11998    20130322       1120             1       1120  \n",
       "\n",
       "[11999 rows x 9 columns]"
      ]
     },
     "execution_count": 155,
     "metadata": {},
     "output_type": "execute_result"
    }
   ],
   "source": [
    "# Read the sales table from sql server\n",
    "cur,con = connect_database()\n",
    "query = \"select * from bronze.crm_sales ;\"\n",
    "df_sales = pd.read_sql(query, con)\n",
    "\n",
    "# Display the DataFrame\n",
    "df_sales"
   ]
  },
  {
   "cell_type": "code",
   "execution_count": 156,
   "metadata": {},
   "outputs": [
    {
     "data": {
      "image/png": "[encoded data removed]",
      "text/plain": [
       "<Figure size 600x400 with 1 Axes>"
      ]
     },
     "metadata": {},
     "output_type": "display_data"
    }
   ],
   "source": [
    "plt.figure(figsize=(6,4))\n",
    "plt.title('Sales null values')\n",
    "sns.heatmap(df_sales.isna(),cbar=False)\n",
    "plt.show()"
   ]
  },
  {
   "cell_type": "code",
   "execution_count": 157,
   "metadata": {},
   "outputs": [
    {
     "name": "stdout",
     "output_type": "stream",
     "text": [
      "<class 'pandas.core.frame.DataFrame'>\n",
      "RangeIndex: 11999 entries, 0 to 11998\n",
      "Data columns (total 9 columns):\n",
      " #   Column        Non-Null Count  Dtype \n",
      "---  ------        --------------  ----- \n",
      " 0   sls_ord_num   11999 non-null  object\n",
      " 1   sls_prd_key   11999 non-null  object\n",
      " 2   sls_cust_id   11999 non-null  int64 \n",
      " 3   sls_order_dt  11999 non-null  int64 \n",
      " 4   sls_ship_dt   11999 non-null  int64 \n",
      " 5   sls_due_dt    11999 non-null  int64 \n",
      " 6   sls_sales     11999 non-null  int64 \n",
      " 7   sls_quantity  11999 non-null  int64 \n",
      " 8   sls_price     11999 non-null  int64 \n",
      "dtypes: int64(7), object(2)\n",
      "memory usage: 843.8+ KB\n"
     ]
    }
   ],
   "source": [
    "df_sales.info()"
   ]
  },
  {
   "cell_type": "code",
   "execution_count": 158,
   "metadata": {},
   "outputs": [
    {
     "data": {
      "text/html": [
       "<div>\n",
       "<style scoped>\n",
       "    .dataframe tbody tr th:only-of-type {\n",
       "        vertical-align: middle;\n",
       "    }\n",
       "\n",
       "    .dataframe tbody tr th {\n",
       "        vertical-align: top;\n",
       "    }\n",
       "\n",
       "    .dataframe thead th {\n",
       "        text-align: right;\n",
       "    }\n",
       "</style>\n",
       "<table border=\"1\" class=\"dataframe\">\n",
       "  <thead>\n",
       "    <tr style=\"text-align: right;\">\n",
       "      <th></th>\n",
       "      <th>sls_ord_num</th>\n",
       "      <th>sls_prd_key</th>\n",
       "      <th>sls_cust_id</th>\n",
       "      <th>sls_order_dt</th>\n",
       "      <th>sls_ship_dt</th>\n",
       "      <th>sls_due_dt</th>\n",
       "      <th>sls_sales</th>\n",
       "      <th>sls_quantity</th>\n",
       "      <th>sls_price</th>\n",
       "    </tr>\n",
       "  </thead>\n",
       "  <tbody>\n",
       "  </tbody>\n",
       "</table>\n",
       "</div>"
      ],
      "text/plain": [
       "Empty DataFrame\n",
       "Columns: [sls_ord_num, sls_prd_key, sls_cust_id, sls_order_dt, sls_ship_dt, sls_due_dt, sls_sales, sls_quantity, sls_price]\n",
       "Index: []"
      ]
     },
     "execution_count": 158,
     "metadata": {},
     "output_type": "execute_result"
    }
   ],
   "source": [
    "#check if the column sls_ord_num contains spaces\n",
    "df_sales[df_sales['sls_ord_num'].str.contains(' ')]"
   ]
  },
  {
   "cell_type": "code",
   "execution_count": 159,
   "metadata": {},
   "outputs": [
    {
     "data": {
      "text/html": [
       "<div>\n",
       "<style scoped>\n",
       "    .dataframe tbody tr th:only-of-type {\n",
       "        vertical-align: middle;\n",
       "    }\n",
       "\n",
       "    .dataframe tbody tr th {\n",
       "        vertical-align: top;\n",
       "    }\n",
       "\n",
       "    .dataframe thead th {\n",
       "        text-align: right;\n",
       "    }\n",
       "</style>\n",
       "<table border=\"1\" class=\"dataframe\">\n",
       "  <thead>\n",
       "    <tr style=\"text-align: right;\">\n",
       "      <th></th>\n",
       "      <th>sls_ord_num</th>\n",
       "      <th>sls_prd_key</th>\n",
       "      <th>sls_cust_id</th>\n",
       "      <th>sls_order_dt</th>\n",
       "      <th>sls_ship_dt</th>\n",
       "      <th>sls_due_dt</th>\n",
       "      <th>sls_sales</th>\n",
       "      <th>sls_quantity</th>\n",
       "      <th>sls_price</th>\n",
       "    </tr>\n",
       "  </thead>\n",
       "  <tbody>\n",
       "  </tbody>\n",
       "</table>\n",
       "</div>"
      ],
      "text/plain": [
       "Empty DataFrame\n",
       "Columns: [sls_ord_num, sls_prd_key, sls_cust_id, sls_order_dt, sls_ship_dt, sls_due_dt, sls_sales, sls_quantity, sls_price]\n",
       "Index: []"
      ]
     },
     "execution_count": 159,
     "metadata": {},
     "output_type": "execute_result"
    }
   ],
   "source": [
    "# check id \tsls_order_dt\t is negative or equal to zero\n",
    "df_sales[df_sales['sls_order_dt'] <=0]"
   ]
  },
  {
   "cell_type": "code",
   "execution_count": 160,
   "metadata": {},
   "outputs": [
    {
     "data": {
      "text/html": [
       "<div>\n",
       "<style scoped>\n",
       "    .dataframe tbody tr th:only-of-type {\n",
       "        vertical-align: middle;\n",
       "    }\n",
       "\n",
       "    .dataframe tbody tr th {\n",
       "        vertical-align: top;\n",
       "    }\n",
       "\n",
       "    .dataframe thead th {\n",
       "        text-align: right;\n",
       "    }\n",
       "</style>\n",
       "<table border=\"1\" class=\"dataframe\">\n",
       "  <thead>\n",
       "    <tr style=\"text-align: right;\">\n",
       "      <th></th>\n",
       "      <th>sls_ord_num</th>\n",
       "      <th>sls_prd_key</th>\n",
       "      <th>sls_cust_id</th>\n",
       "      <th>sls_order_dt</th>\n",
       "      <th>sls_ship_dt</th>\n",
       "      <th>sls_due_dt</th>\n",
       "      <th>sls_sales</th>\n",
       "      <th>sls_quantity</th>\n",
       "      <th>sls_price</th>\n",
       "    </tr>\n",
       "  </thead>\n",
       "  <tbody>\n",
       "  </tbody>\n",
       "</table>\n",
       "</div>"
      ],
      "text/plain": [
       "Empty DataFrame\n",
       "Columns: [sls_ord_num, sls_prd_key, sls_cust_id, sls_order_dt, sls_ship_dt, sls_due_dt, sls_sales, sls_quantity, sls_price]\n",
       "Index: []"
      ]
     },
     "execution_count": 160,
     "metadata": {},
     "output_type": "execute_result"
    }
   ],
   "source": [
    "# check id \tsls_ship_dt\t is negative or equal to zero\n",
    "df_sales[df_sales['sls_ship_dt'] <=0]"
   ]
  },
  {
   "cell_type": "code",
   "execution_count": 162,
   "metadata": {},
   "outputs": [
    {
     "data": {
      "text/html": [
       "<div>\n",
       "<style scoped>\n",
       "    .dataframe tbody tr th:only-of-type {\n",
       "        vertical-align: middle;\n",
       "    }\n",
       "\n",
       "    .dataframe tbody tr th {\n",
       "        vertical-align: top;\n",
       "    }\n",
       "\n",
       "    .dataframe thead th {\n",
       "        text-align: right;\n",
       "    }\n",
       "</style>\n",
       "<table border=\"1\" class=\"dataframe\">\n",
       "  <thead>\n",
       "    <tr style=\"text-align: right;\">\n",
       "      <th></th>\n",
       "      <th>sls_ord_num</th>\n",
       "      <th>sls_prd_key</th>\n",
       "      <th>sls_cust_id</th>\n",
       "      <th>sls_order_dt</th>\n",
       "      <th>sls_ship_dt</th>\n",
       "      <th>sls_due_dt</th>\n",
       "      <th>sls_sales</th>\n",
       "      <th>sls_quantity</th>\n",
       "      <th>sls_price</th>\n",
       "    </tr>\n",
       "  </thead>\n",
       "  <tbody>\n",
       "  </tbody>\n",
       "</table>\n",
       "</div>"
      ],
      "text/plain": [
       "Empty DataFrame\n",
       "Columns: [sls_ord_num, sls_prd_key, sls_cust_id, sls_order_dt, sls_ship_dt, sls_due_dt, sls_sales, sls_quantity, sls_price]\n",
       "Index: []"
      ]
     },
     "execution_count": 162,
     "metadata": {},
     "output_type": "execute_result"
    }
   ],
   "source": [
    "# check id \tsls_due_dt\t is negative or equal to zero\n",
    "df_sales[df_sales['sls_due_dt'] <=0]"
   ]
  },
  {
   "cell_type": "code",
   "execution_count": 163,
   "metadata": {},
   "outputs": [
    {
     "data": {
      "text/plain": [
       "sls_ord_num  sls_prd_key  sls_cust_id  sls_order_dt  sls_ship_dt  sls_due_dt  sls_sales  sls_quantity  sls_price\n",
       "SO54181      BK-R64Y-40   19386        20130310      20130317     20130322    1120       1             1120         1\n",
       "SO43697      BK-R93R-62   21768        20101229      20110105     20110110    3578       1             3578         1\n",
       "SO43698      BK-M82S-44   28389        20101229      20110105     20110110    3400       1             3400         1\n",
       "SO43699      BK-M82S-44   25863        20101229      20110105     20110110    3400       1             3400         1\n",
       "SO43700      BK-R50B-62   14501        20101229      20110105     20110110    699        1             699          1\n",
       "                                                                                                                   ..\n",
       "SO43731      BK-R93R-56   16629        20110106      20110113     20110118    3578       1             3578         1\n",
       "SO43732      BK-M82B-44   11025        20110106      20110113     20110118    3375       1             3375         1\n",
       "SO43733      BK-R93R-48   27577        20110106      20110113     20110118    3578       1             3578         1\n",
       "SO43734      BK-R93R-48   27604        20110107      20110114     20110119    3578       1             3578         1\n",
       "SO43735      BK-R93R-62   16522        20110107      20110114     20110119    3578       1             3578         1\n",
       "Name: count, Length: 11999, dtype: int64"
      ]
     },
     "execution_count": 163,
     "metadata": {},
     "output_type": "execute_result"
    }
   ],
   "source": [
    "# check if the length of sls_order_dt is equal to 8\n",
    "df_sales[df_sales['sls_order_dt'].astype(str).str.len() == 8].value_counts()"
   ]
  },
  {
   "cell_type": "code",
   "execution_count": 164,
   "metadata": {},
   "outputs": [
    {
     "data": {
      "text/plain": [
       "sls_ord_num  sls_prd_key  sls_cust_id  sls_order_dt  sls_ship_dt  sls_due_dt  sls_sales  sls_quantity  sls_price\n",
       "SO54181      BK-R64Y-40   19386        20130310      20130317     20130322    1120       1             1120         1\n",
       "SO43697      BK-R93R-62   21768        20101229      20110105     20110110    3578       1             3578         1\n",
       "SO43698      BK-M82S-44   28389        20101229      20110105     20110110    3400       1             3400         1\n",
       "SO43699      BK-M82S-44   25863        20101229      20110105     20110110    3400       1             3400         1\n",
       "SO43700      BK-R50B-62   14501        20101229      20110105     20110110    699        1             699          1\n",
       "                                                                                                                   ..\n",
       "SO43731      BK-R93R-56   16629        20110106      20110113     20110118    3578       1             3578         1\n",
       "SO43732      BK-M82B-44   11025        20110106      20110113     20110118    3375       1             3375         1\n",
       "SO43733      BK-R93R-48   27577        20110106      20110113     20110118    3578       1             3578         1\n",
       "SO43734      BK-R93R-48   27604        20110107      20110114     20110119    3578       1             3578         1\n",
       "SO43735      BK-R93R-62   16522        20110107      20110114     20110119    3578       1             3578         1\n",
       "Name: count, Length: 11999, dtype: int64"
      ]
     },
     "execution_count": 164,
     "metadata": {},
     "output_type": "execute_result"
    }
   ],
   "source": [
    "# check if the length of sls_ship_dt is equal to 8\n",
    "df_sales[df_sales['sls_ship_dt'].astype(str).str.len() == 8].value_counts()"
   ]
  },
  {
   "cell_type": "code",
   "execution_count": 165,
   "metadata": {},
   "outputs": [
    {
     "data": {
      "text/plain": [
       "sls_ord_num  sls_prd_key  sls_cust_id  sls_order_dt  sls_ship_dt  sls_due_dt  sls_sales  sls_quantity  sls_price\n",
       "SO54181      BK-R64Y-40   19386        20130310      20130317     20130322    1120       1             1120         1\n",
       "SO43697      BK-R93R-62   21768        20101229      20110105     20110110    3578       1             3578         1\n",
       "SO43698      BK-M82S-44   28389        20101229      20110105     20110110    3400       1             3400         1\n",
       "SO43699      BK-M82S-44   25863        20101229      20110105     20110110    3400       1             3400         1\n",
       "SO43700      BK-R50B-62   14501        20101229      20110105     20110110    699        1             699          1\n",
       "                                                                                                                   ..\n",
       "SO43731      BK-R93R-56   16629        20110106      20110113     20110118    3578       1             3578         1\n",
       "SO43732      BK-M82B-44   11025        20110106      20110113     20110118    3375       1             3375         1\n",
       "SO43733      BK-R93R-48   27577        20110106      20110113     20110118    3578       1             3578         1\n",
       "SO43734      BK-R93R-48   27604        20110107      20110114     20110119    3578       1             3578         1\n",
       "SO43735      BK-R93R-62   16522        20110107      20110114     20110119    3578       1             3578         1\n",
       "Name: count, Length: 11999, dtype: int64"
      ]
     },
     "execution_count": 165,
     "metadata": {},
     "output_type": "execute_result"
    }
   ],
   "source": [
    "# check if the length of  sls_due_dt is equal to 8\n",
    "df_sales[df_sales['sls_ship_dt'].astype(str).str.len() == 8].value_counts()"
   ]
  },
  {
   "cell_type": "code",
   "execution_count": 166,
   "metadata": {},
   "outputs": [],
   "source": [
    "# convert integer values to date\n",
    "df_sales['sls_order_dt'] = pd.to_datetime(df_sales['sls_order_dt'], format='%Y%m%d',errors='coerce')\n",
    "df_sales['sls_ship_dt'] = pd.to_datetime(df_sales['sls_ship_dt'], format='%Y%m%d',errors='coerce')\n",
    "df_sales['sls_due_dt'] = pd.to_datetime(df_sales['sls_due_dt'], format='%Y%m%d',errors='coerce')\n",
    "\n"
   ]
  },
  {
   "cell_type": "code",
   "execution_count": 167,
   "metadata": {},
   "outputs": [
    {
     "data": {
      "text/html": [
       "<div>\n",
       "<style scoped>\n",
       "    .dataframe tbody tr th:only-of-type {\n",
       "        vertical-align: middle;\n",
       "    }\n",
       "\n",
       "    .dataframe tbody tr th {\n",
       "        vertical-align: top;\n",
       "    }\n",
       "\n",
       "    .dataframe thead th {\n",
       "        text-align: right;\n",
       "    }\n",
       "</style>\n",
       "<table border=\"1\" class=\"dataframe\">\n",
       "  <thead>\n",
       "    <tr style=\"text-align: right;\">\n",
       "      <th></th>\n",
       "      <th>sls_ord_num</th>\n",
       "      <th>sls_prd_key</th>\n",
       "      <th>sls_cust_id</th>\n",
       "      <th>sls_order_dt</th>\n",
       "      <th>sls_ship_dt</th>\n",
       "      <th>sls_due_dt</th>\n",
       "      <th>sls_sales</th>\n",
       "      <th>sls_quantity</th>\n",
       "      <th>sls_price</th>\n",
       "    </tr>\n",
       "  </thead>\n",
       "  <tbody>\n",
       "    <tr>\n",
       "      <th>0</th>\n",
       "      <td>SO43697</td>\n",
       "      <td>BK-R93R-62</td>\n",
       "      <td>21768</td>\n",
       "      <td>2010-12-29</td>\n",
       "      <td>2011-01-05</td>\n",
       "      <td>2011-01-10</td>\n",
       "      <td>3578</td>\n",
       "      <td>1</td>\n",
       "      <td>3578</td>\n",
       "    </tr>\n",
       "    <tr>\n",
       "      <th>1</th>\n",
       "      <td>SO43698</td>\n",
       "      <td>BK-M82S-44</td>\n",
       "      <td>28389</td>\n",
       "      <td>2010-12-29</td>\n",
       "      <td>2011-01-05</td>\n",
       "      <td>2011-01-10</td>\n",
       "      <td>3400</td>\n",
       "      <td>1</td>\n",
       "      <td>3400</td>\n",
       "    </tr>\n",
       "    <tr>\n",
       "      <th>2</th>\n",
       "      <td>SO43699</td>\n",
       "      <td>BK-M82S-44</td>\n",
       "      <td>25863</td>\n",
       "      <td>2010-12-29</td>\n",
       "      <td>2011-01-05</td>\n",
       "      <td>2011-01-10</td>\n",
       "      <td>3400</td>\n",
       "      <td>1</td>\n",
       "      <td>3400</td>\n",
       "    </tr>\n",
       "    <tr>\n",
       "      <th>3</th>\n",
       "      <td>SO43700</td>\n",
       "      <td>BK-R50B-62</td>\n",
       "      <td>14501</td>\n",
       "      <td>2010-12-29</td>\n",
       "      <td>2011-01-05</td>\n",
       "      <td>2011-01-10</td>\n",
       "      <td>699</td>\n",
       "      <td>1</td>\n",
       "      <td>699</td>\n",
       "    </tr>\n",
       "    <tr>\n",
       "      <th>4</th>\n",
       "      <td>SO43701</td>\n",
       "      <td>BK-M82S-44</td>\n",
       "      <td>11003</td>\n",
       "      <td>2010-12-29</td>\n",
       "      <td>2011-01-05</td>\n",
       "      <td>2011-01-10</td>\n",
       "      <td>3400</td>\n",
       "      <td>1</td>\n",
       "      <td>3400</td>\n",
       "    </tr>\n",
       "    <tr>\n",
       "      <th>...</th>\n",
       "      <td>...</td>\n",
       "      <td>...</td>\n",
       "      <td>...</td>\n",
       "      <td>...</td>\n",
       "      <td>...</td>\n",
       "      <td>...</td>\n",
       "      <td>...</td>\n",
       "      <td>...</td>\n",
       "      <td>...</td>\n",
       "    </tr>\n",
       "    <tr>\n",
       "      <th>11994</th>\n",
       "      <td>SO54179</td>\n",
       "      <td>TT-R982</td>\n",
       "      <td>19550</td>\n",
       "      <td>2013-03-10</td>\n",
       "      <td>2013-03-17</td>\n",
       "      <td>2013-03-22</td>\n",
       "      <td>4</td>\n",
       "      <td>1</td>\n",
       "      <td>4</td>\n",
       "    </tr>\n",
       "    <tr>\n",
       "      <th>11995</th>\n",
       "      <td>SO54179</td>\n",
       "      <td>RA-H123</td>\n",
       "      <td>19550</td>\n",
       "      <td>2013-03-10</td>\n",
       "      <td>2013-03-17</td>\n",
       "      <td>2013-03-22</td>\n",
       "      <td>120</td>\n",
       "      <td>1</td>\n",
       "      <td>120</td>\n",
       "    </tr>\n",
       "    <tr>\n",
       "      <th>11996</th>\n",
       "      <td>SO54180</td>\n",
       "      <td>BK-R64Y-44</td>\n",
       "      <td>19679</td>\n",
       "      <td>2013-03-10</td>\n",
       "      <td>2013-03-17</td>\n",
       "      <td>2013-03-22</td>\n",
       "      <td>1120</td>\n",
       "      <td>1</td>\n",
       "      <td>1120</td>\n",
       "    </tr>\n",
       "    <tr>\n",
       "      <th>11997</th>\n",
       "      <td>SO54180</td>\n",
       "      <td>HL-U509</td>\n",
       "      <td>19679</td>\n",
       "      <td>2013-03-10</td>\n",
       "      <td>2013-03-17</td>\n",
       "      <td>2013-03-22</td>\n",
       "      <td>35</td>\n",
       "      <td>1</td>\n",
       "      <td>35</td>\n",
       "    </tr>\n",
       "    <tr>\n",
       "      <th>11998</th>\n",
       "      <td>SO54181</td>\n",
       "      <td>BK-R64Y-40</td>\n",
       "      <td>19386</td>\n",
       "      <td>2013-03-10</td>\n",
       "      <td>2013-03-17</td>\n",
       "      <td>2013-03-22</td>\n",
       "      <td>1120</td>\n",
       "      <td>1</td>\n",
       "      <td>1120</td>\n",
       "    </tr>\n",
       "  </tbody>\n",
       "</table>\n",
       "<p>11999 rows × 9 columns</p>\n",
       "</div>"
      ],
      "text/plain": [
       "      sls_ord_num sls_prd_key  sls_cust_id sls_order_dt sls_ship_dt  \\\n",
       "0         SO43697  BK-R93R-62        21768   2010-12-29  2011-01-05   \n",
       "1         SO43698  BK-M82S-44        28389   2010-12-29  2011-01-05   \n",
       "2         SO43699  BK-M82S-44        25863   2010-12-29  2011-01-05   \n",
       "3         SO43700  BK-R50B-62        14501   2010-12-29  2011-01-05   \n",
       "4         SO43701  BK-M82S-44        11003   2010-12-29  2011-01-05   \n",
       "...           ...         ...          ...          ...         ...   \n",
       "11994     SO54179     TT-R982        19550   2013-03-10  2013-03-17   \n",
       "11995     SO54179     RA-H123        19550   2013-03-10  2013-03-17   \n",
       "11996     SO54180  BK-R64Y-44        19679   2013-03-10  2013-03-17   \n",
       "11997     SO54180     HL-U509        19679   2013-03-10  2013-03-17   \n",
       "11998     SO54181  BK-R64Y-40        19386   2013-03-10  2013-03-17   \n",
       "\n",
       "      sls_due_dt  sls_sales  sls_quantity  sls_price  \n",
       "0     2011-01-10       3578             1       3578  \n",
       "1     2011-01-10       3400             1       3400  \n",
       "2     2011-01-10       3400             1       3400  \n",
       "3     2011-01-10        699             1        699  \n",
       "4     2011-01-10       3400             1       3400  \n",
       "...          ...        ...           ...        ...  \n",
       "11994 2013-03-22          4             1          4  \n",
       "11995 2013-03-22        120             1        120  \n",
       "11996 2013-03-22       1120             1       1120  \n",
       "11997 2013-03-22         35             1         35  \n",
       "11998 2013-03-22       1120             1       1120  \n",
       "\n",
       "[11999 rows x 9 columns]"
      ]
     },
     "execution_count": 167,
     "metadata": {},
     "output_type": "execute_result"
    }
   ],
   "source": [
    "df_sales"
   ]
  },
  {
   "cell_type": "code",
   "execution_count": 169,
   "metadata": {},
   "outputs": [
    {
     "data": {
      "text/html": [
       "<div>\n",
       "<style scoped>\n",
       "    .dataframe tbody tr th:only-of-type {\n",
       "        vertical-align: middle;\n",
       "    }\n",
       "\n",
       "    .dataframe tbody tr th {\n",
       "        vertical-align: top;\n",
       "    }\n",
       "\n",
       "    .dataframe thead th {\n",
       "        text-align: right;\n",
       "    }\n",
       "</style>\n",
       "<table border=\"1\" class=\"dataframe\">\n",
       "  <thead>\n",
       "    <tr style=\"text-align: right;\">\n",
       "      <th></th>\n",
       "      <th>sls_ord_num</th>\n",
       "      <th>sls_prd_key</th>\n",
       "      <th>sls_cust_id</th>\n",
       "      <th>sls_order_dt</th>\n",
       "      <th>sls_ship_dt</th>\n",
       "      <th>sls_due_dt</th>\n",
       "      <th>sls_sales</th>\n",
       "      <th>sls_quantity</th>\n",
       "      <th>sls_price</th>\n",
       "    </tr>\n",
       "  </thead>\n",
       "  <tbody>\n",
       "  </tbody>\n",
       "</table>\n",
       "</div>"
      ],
      "text/plain": [
       "Empty DataFrame\n",
       "Columns: [sls_ord_num, sls_prd_key, sls_cust_id, sls_order_dt, sls_ship_dt, sls_due_dt, sls_sales, sls_quantity, sls_price]\n",
       "Index: []"
      ]
     },
     "execution_count": 169,
     "metadata": {},
     "output_type": "execute_result"
    }
   ],
   "source": [
    "# chek if order date is always before the ship and due date\n",
    "df_sales[df_sales['sls_order_dt']> df_sales['sls_ship_dt'] ]"
   ]
  },
  {
   "cell_type": "code",
   "execution_count": 170,
   "metadata": {},
   "outputs": [
    {
     "data": {
      "text/html": [
       "<div>\n",
       "<style scoped>\n",
       "    .dataframe tbody tr th:only-of-type {\n",
       "        vertical-align: middle;\n",
       "    }\n",
       "\n",
       "    .dataframe tbody tr th {\n",
       "        vertical-align: top;\n",
       "    }\n",
       "\n",
       "    .dataframe thead th {\n",
       "        text-align: right;\n",
       "    }\n",
       "</style>\n",
       "<table border=\"1\" class=\"dataframe\">\n",
       "  <thead>\n",
       "    <tr style=\"text-align: right;\">\n",
       "      <th></th>\n",
       "      <th>sls_ord_num</th>\n",
       "      <th>sls_prd_key</th>\n",
       "      <th>sls_cust_id</th>\n",
       "      <th>sls_order_dt</th>\n",
       "      <th>sls_ship_dt</th>\n",
       "      <th>sls_due_dt</th>\n",
       "      <th>sls_sales</th>\n",
       "      <th>sls_quantity</th>\n",
       "      <th>sls_price</th>\n",
       "    </tr>\n",
       "  </thead>\n",
       "  <tbody>\n",
       "  </tbody>\n",
       "</table>\n",
       "</div>"
      ],
      "text/plain": [
       "Empty DataFrame\n",
       "Columns: [sls_ord_num, sls_prd_key, sls_cust_id, sls_order_dt, sls_ship_dt, sls_due_dt, sls_sales, sls_quantity, sls_price]\n",
       "Index: []"
      ]
     },
     "execution_count": 170,
     "metadata": {},
     "output_type": "execute_result"
    }
   ],
   "source": [
    "# chek if order date is always before the sls_due_dt and due date\n",
    "df_sales[df_sales['sls_order_dt']> df_sales['sls_due_dt']]   "
   ]
  },
  {
   "cell_type": "code",
   "execution_count": 171,
   "metadata": {},
   "outputs": [
    {
     "data": {
      "text/html": [
       "<div>\n",
       "<style scoped>\n",
       "    .dataframe tbody tr th:only-of-type {\n",
       "        vertical-align: middle;\n",
       "    }\n",
       "\n",
       "    .dataframe tbody tr th {\n",
       "        vertical-align: top;\n",
       "    }\n",
       "\n",
       "    .dataframe thead th {\n",
       "        text-align: right;\n",
       "    }\n",
       "</style>\n",
       "<table border=\"1\" class=\"dataframe\">\n",
       "  <thead>\n",
       "    <tr style=\"text-align: right;\">\n",
       "      <th></th>\n",
       "      <th>sls_ord_num</th>\n",
       "      <th>sls_prd_key</th>\n",
       "      <th>sls_cust_id</th>\n",
       "      <th>sls_order_dt</th>\n",
       "      <th>sls_ship_dt</th>\n",
       "      <th>sls_due_dt</th>\n",
       "      <th>sls_sales</th>\n",
       "      <th>sls_quantity</th>\n",
       "      <th>sls_price</th>\n",
       "    </tr>\n",
       "  </thead>\n",
       "  <tbody>\n",
       "  </tbody>\n",
       "</table>\n",
       "</div>"
      ],
      "text/plain": [
       "Empty DataFrame\n",
       "Columns: [sls_ord_num, sls_prd_key, sls_cust_id, sls_order_dt, sls_ship_dt, sls_due_dt, sls_sales, sls_quantity, sls_price]\n",
       "Index: []"
      ]
     },
     "execution_count": 171,
     "metadata": {},
     "output_type": "execute_result"
    }
   ],
   "source": [
    "# check if sls_sales is not negative or equal to zero\n",
    "df_sales[df_sales['sls_sales'] <=0 ]"
   ]
  },
  {
   "cell_type": "code",
   "execution_count": 172,
   "metadata": {},
   "outputs": [
    {
     "data": {
      "text/html": [
       "<div>\n",
       "<style scoped>\n",
       "    .dataframe tbody tr th:only-of-type {\n",
       "        vertical-align: middle;\n",
       "    }\n",
       "\n",
       "    .dataframe tbody tr th {\n",
       "        vertical-align: top;\n",
       "    }\n",
       "\n",
       "    .dataframe thead th {\n",
       "        text-align: right;\n",
       "    }\n",
       "</style>\n",
       "<table border=\"1\" class=\"dataframe\">\n",
       "  <thead>\n",
       "    <tr style=\"text-align: right;\">\n",
       "      <th></th>\n",
       "      <th>sls_ord_num</th>\n",
       "      <th>sls_prd_key</th>\n",
       "      <th>sls_cust_id</th>\n",
       "      <th>sls_order_dt</th>\n",
       "      <th>sls_ship_dt</th>\n",
       "      <th>sls_due_dt</th>\n",
       "      <th>sls_sales</th>\n",
       "      <th>sls_quantity</th>\n",
       "      <th>sls_price</th>\n",
       "    </tr>\n",
       "  </thead>\n",
       "  <tbody>\n",
       "  </tbody>\n",
       "</table>\n",
       "</div>"
      ],
      "text/plain": [
       "Empty DataFrame\n",
       "Columns: [sls_ord_num, sls_prd_key, sls_cust_id, sls_order_dt, sls_ship_dt, sls_due_dt, sls_sales, sls_quantity, sls_price]\n",
       "Index: []"
      ]
     },
     "execution_count": 172,
     "metadata": {},
     "output_type": "execute_result"
    }
   ],
   "source": [
    "# check if sls_quantity is not negative or equal to zero\n",
    "df_sales[df_sales['sls_quantity'] <=0 ]"
   ]
  },
  {
   "cell_type": "code",
   "execution_count": 173,
   "metadata": {},
   "outputs": [
    {
     "data": {
      "text/html": [
       "<div>\n",
       "<style scoped>\n",
       "    .dataframe tbody tr th:only-of-type {\n",
       "        vertical-align: middle;\n",
       "    }\n",
       "\n",
       "    .dataframe tbody tr th {\n",
       "        vertical-align: top;\n",
       "    }\n",
       "\n",
       "    .dataframe thead th {\n",
       "        text-align: right;\n",
       "    }\n",
       "</style>\n",
       "<table border=\"1\" class=\"dataframe\">\n",
       "  <thead>\n",
       "    <tr style=\"text-align: right;\">\n",
       "      <th></th>\n",
       "      <th>sls_ord_num</th>\n",
       "      <th>sls_prd_key</th>\n",
       "      <th>sls_cust_id</th>\n",
       "      <th>sls_order_dt</th>\n",
       "      <th>sls_ship_dt</th>\n",
       "      <th>sls_due_dt</th>\n",
       "      <th>sls_sales</th>\n",
       "      <th>sls_quantity</th>\n",
       "      <th>sls_price</th>\n",
       "    </tr>\n",
       "  </thead>\n",
       "  <tbody>\n",
       "    <tr>\n",
       "      <th>5658</th>\n",
       "      <td>SO51259</td>\n",
       "      <td>WB-H098</td>\n",
       "      <td>11433</td>\n",
       "      <td>2013-01-01</td>\n",
       "      <td>2013-01-08</td>\n",
       "      <td>2013-01-13</td>\n",
       "      <td>10</td>\n",
       "      <td>2</td>\n",
       "      <td>0</td>\n",
       "    </tr>\n",
       "    <tr>\n",
       "      <th>5770</th>\n",
       "      <td>SO51298</td>\n",
       "      <td>WB-H098</td>\n",
       "      <td>27949</td>\n",
       "      <td>2013-01-04</td>\n",
       "      <td>2013-01-11</td>\n",
       "      <td>2013-01-16</td>\n",
       "      <td>25</td>\n",
       "      <td>5</td>\n",
       "      <td>0</td>\n",
       "    </tr>\n",
       "    <tr>\n",
       "      <th>6018</th>\n",
       "      <td>SO51387</td>\n",
       "      <td>HL-U509-B</td>\n",
       "      <td>11942</td>\n",
       "      <td>2013-01-09</td>\n",
       "      <td>2013-01-16</td>\n",
       "      <td>2013-01-21</td>\n",
       "      <td>70</td>\n",
       "      <td>2</td>\n",
       "      <td>0</td>\n",
       "    </tr>\n",
       "    <tr>\n",
       "      <th>6271</th>\n",
       "      <td>SO51479</td>\n",
       "      <td>BC-R205</td>\n",
       "      <td>16687</td>\n",
       "      <td>2013-01-16</td>\n",
       "      <td>2013-01-23</td>\n",
       "      <td>2013-01-28</td>\n",
       "      <td>9</td>\n",
       "      <td>1</td>\n",
       "      <td>0</td>\n",
       "    </tr>\n",
       "    <tr>\n",
       "      <th>6273</th>\n",
       "      <td>SO51479</td>\n",
       "      <td>HL-U509</td>\n",
       "      <td>16687</td>\n",
       "      <td>2013-01-16</td>\n",
       "      <td>2013-01-23</td>\n",
       "      <td>2013-01-28</td>\n",
       "      <td>35</td>\n",
       "      <td>1</td>\n",
       "      <td>0</td>\n",
       "    </tr>\n",
       "    <tr>\n",
       "      <th>6997</th>\n",
       "      <td>SO51942</td>\n",
       "      <td>BC-M005</td>\n",
       "      <td>11223</td>\n",
       "      <td>2013-01-29</td>\n",
       "      <td>2013-02-05</td>\n",
       "      <td>2013-02-10</td>\n",
       "      <td>100</td>\n",
       "      <td>10</td>\n",
       "      <td>0</td>\n",
       "    </tr>\n",
       "    <tr>\n",
       "      <th>7567</th>\n",
       "      <td>SO52187</td>\n",
       "      <td>CL-9009</td>\n",
       "      <td>18110</td>\n",
       "      <td>2013-02-03</td>\n",
       "      <td>2013-02-10</td>\n",
       "      <td>2013-02-15</td>\n",
       "      <td>16</td>\n",
       "      <td>2</td>\n",
       "      <td>0</td>\n",
       "    </tr>\n",
       "  </tbody>\n",
       "</table>\n",
       "</div>"
      ],
      "text/plain": [
       "     sls_ord_num sls_prd_key  sls_cust_id sls_order_dt sls_ship_dt sls_due_dt  \\\n",
       "5658     SO51259     WB-H098        11433   2013-01-01  2013-01-08 2013-01-13   \n",
       "5770     SO51298     WB-H098        27949   2013-01-04  2013-01-11 2013-01-16   \n",
       "6018     SO51387   HL-U509-B        11942   2013-01-09  2013-01-16 2013-01-21   \n",
       "6271     SO51479     BC-R205        16687   2013-01-16  2013-01-23 2013-01-28   \n",
       "6273     SO51479     HL-U509        16687   2013-01-16  2013-01-23 2013-01-28   \n",
       "6997     SO51942     BC-M005        11223   2013-01-29  2013-02-05 2013-02-10   \n",
       "7567     SO52187     CL-9009        18110   2013-02-03  2013-02-10 2013-02-15   \n",
       "\n",
       "      sls_sales  sls_quantity  sls_price  \n",
       "5658         10             2          0  \n",
       "5770         25             5          0  \n",
       "6018         70             2          0  \n",
       "6271          9             1          0  \n",
       "6273         35             1          0  \n",
       "6997        100            10          0  \n",
       "7567         16             2          0  "
      ]
     },
     "execution_count": 173,
     "metadata": {},
     "output_type": "execute_result"
    }
   ],
   "source": [
    "# check if the price is negative or equal to 0\n",
    "df_sales[df_sales['sls_price'] <=0 ]"
   ]
  },
  {
   "cell_type": "code",
   "execution_count": 174,
   "metadata": {},
   "outputs": [],
   "source": [
    "# calculate the price when it's equal to zero\n",
    "df_sales['sls_price'] = df_sales.apply(\n",
    "    lambda row: row['sls_sales'] / row['sls_quantity'] if row['sls_price'] == 0 else row['sls_price'],\n",
    "    axis=1\n",
    ")\n",
    "   "
   ]
  },
  {
   "cell_type": "code",
   "execution_count": 175,
   "metadata": {},
   "outputs": [
    {
     "data": {
      "text/html": [
       "<div>\n",
       "<style scoped>\n",
       "    .dataframe tbody tr th:only-of-type {\n",
       "        vertical-align: middle;\n",
       "    }\n",
       "\n",
       "    .dataframe tbody tr th {\n",
       "        vertical-align: top;\n",
       "    }\n",
       "\n",
       "    .dataframe thead th {\n",
       "        text-align: right;\n",
       "    }\n",
       "</style>\n",
       "<table border=\"1\" class=\"dataframe\">\n",
       "  <thead>\n",
       "    <tr style=\"text-align: right;\">\n",
       "      <th></th>\n",
       "      <th>sls_ord_num</th>\n",
       "      <th>sls_prd_key</th>\n",
       "      <th>sls_cust_id</th>\n",
       "      <th>sls_order_dt</th>\n",
       "      <th>sls_ship_dt</th>\n",
       "      <th>sls_due_dt</th>\n",
       "      <th>sls_sales</th>\n",
       "      <th>sls_quantity</th>\n",
       "      <th>sls_price</th>\n",
       "    </tr>\n",
       "  </thead>\n",
       "  <tbody>\n",
       "  </tbody>\n",
       "</table>\n",
       "</div>"
      ],
      "text/plain": [
       "Empty DataFrame\n",
       "Columns: [sls_ord_num, sls_prd_key, sls_cust_id, sls_order_dt, sls_ship_dt, sls_due_dt, sls_sales, sls_quantity, sls_price]\n",
       "Index: []"
      ]
     },
     "execution_count": 175,
     "metadata": {},
     "output_type": "execute_result"
    }
   ],
   "source": [
    "# verify  the price is no longer equal to 0\n",
    "df_sales[df_sales['sls_price'] <=0 ]"
   ]
  },
  {
   "cell_type": "code",
   "execution_count": 176,
   "metadata": {},
   "outputs": [
    {
     "data": {
      "text/html": [
       "<div>\n",
       "<style scoped>\n",
       "    .dataframe tbody tr th:only-of-type {\n",
       "        vertical-align: middle;\n",
       "    }\n",
       "\n",
       "    .dataframe tbody tr th {\n",
       "        vertical-align: top;\n",
       "    }\n",
       "\n",
       "    .dataframe thead th {\n",
       "        text-align: right;\n",
       "    }\n",
       "</style>\n",
       "<table border=\"1\" class=\"dataframe\">\n",
       "  <thead>\n",
       "    <tr style=\"text-align: right;\">\n",
       "      <th></th>\n",
       "      <th>sls_ord_num</th>\n",
       "      <th>sls_prd_key</th>\n",
       "      <th>sls_cust_id</th>\n",
       "      <th>sls_order_dt</th>\n",
       "      <th>sls_ship_dt</th>\n",
       "      <th>sls_due_dt</th>\n",
       "      <th>sls_sales</th>\n",
       "      <th>sls_quantity</th>\n",
       "      <th>sls_price</th>\n",
       "    </tr>\n",
       "  </thead>\n",
       "  <tbody>\n",
       "  </tbody>\n",
       "</table>\n",
       "</div>"
      ],
      "text/plain": [
       "Empty DataFrame\n",
       "Columns: [sls_ord_num, sls_prd_key, sls_cust_id, sls_order_dt, sls_ship_dt, sls_due_dt, sls_sales, sls_quantity, sls_price]\n",
       "Index: []"
      ]
     },
     "execution_count": 176,
     "metadata": {},
     "output_type": "execute_result"
    }
   ],
   "source": [
    "# check if sales != quantity * price\n",
    "df_sales[df_sales['sls_sales'] != df_sales['sls_quantity']*df_sales['sls_price']]"
   ]
  },
  {
   "cell_type": "code",
   "execution_count": 177,
   "metadata": {},
   "outputs": [],
   "source": [
    "# truncate table before inserting records\n",
    "cur.execute('Truncate table silver.crm_sales  ')\n",
    "# sql for insert df_products into silver.crm_products\n",
    "silver_crm_sales_insert=\"\"\"use DataWarehouse_Demo; INSERT INTO silver.crm_sales (\n",
    "       sls_ord_num\n",
    "      ,sls_prd_key\n",
    "      ,sls_cust_id\n",
    "      ,sls_order_dt\n",
    "      ,sls_ship_dt\n",
    "      ,sls_due_dt\n",
    "      ,sls_sales\n",
    "      ,sls_quantity\n",
    "      ,sls_price\n",
    "\t\n",
    "    )  \n",
    "    values(?,?,?,?,?,?,?,?,?) \n",
    "\"\"\""
   ]
  },
  {
   "cell_type": "code",
   "execution_count": 179,
   "metadata": {},
   "outputs": [
    {
     "name": "stdout",
     "output_type": "stream",
     "text": [
      "Rows inserted successfully !\n",
      "Database closed\n"
     ]
    }
   ],
   "source": [
    "try:\n",
    "    for i , row in df_sales.iterrows():\n",
    "        cur.execute(silver_crm_sales_insert,list(row))\n",
    "        con.commit()\n",
    "    print(\"Rows inserted successfully !\")\n",
    "except:\n",
    "    print(\"Error to insert rows\")\n",
    "finally:\n",
    "    con.close()\n",
    "    print('Database closed')"
   ]
  },
  {
   "cell_type": "code",
   "execution_count": 254,
   "metadata": {},
   "outputs": [],
   "source": [
    "# ------------------------------------------------------------\n",
    "#          load bronze.erp_cutomer_info\n",
    "#--------------------------------------------------------------"
   ]
  },
  {
   "cell_type": "code",
   "execution_count": 188,
   "metadata": {},
   "outputs": [
    {
     "name": "stderr",
     "output_type": "stream",
     "text": [
      "C:\\Users\\b.azreg\\AppData\\Local\\Temp\\ipykernel_14796\\2383987193.py:4: UserWarning: pandas only supports SQLAlchemy connectable (engine/connection) or database string URI or sqlite3 DBAPI2 connection. Other DBAPI2 objects are not tested. Please consider using SQLAlchemy.\n",
      "  df_customer_info = pd.read_sql(query, con)\n"
     ]
    },
    {
     "data": {
      "text/html": [
       "<div>\n",
       "<style scoped>\n",
       "    .dataframe tbody tr th:only-of-type {\n",
       "        vertical-align: middle;\n",
       "    }\n",
       "\n",
       "    .dataframe tbody tr th {\n",
       "        vertical-align: top;\n",
       "    }\n",
       "\n",
       "    .dataframe thead th {\n",
       "        text-align: right;\n",
       "    }\n",
       "</style>\n",
       "<table border=\"1\" class=\"dataframe\">\n",
       "  <thead>\n",
       "    <tr style=\"text-align: right;\">\n",
       "      <th></th>\n",
       "      <th>Cid</th>\n",
       "      <th>Bdate</th>\n",
       "      <th>Gen</th>\n",
       "    </tr>\n",
       "  </thead>\n",
       "  <tbody>\n",
       "    <tr>\n",
       "      <th>0</th>\n",
       "      <td>NASAW00011000</td>\n",
       "      <td>1971-10-06 00:00:00</td>\n",
       "      <td>Male</td>\n",
       "    </tr>\n",
       "    <tr>\n",
       "      <th>1</th>\n",
       "      <td>NASAW00011001</td>\n",
       "      <td>1976-05-10 00:00:00</td>\n",
       "      <td>Male</td>\n",
       "    </tr>\n",
       "    <tr>\n",
       "      <th>2</th>\n",
       "      <td>NASAW00011002</td>\n",
       "      <td>1971-02-09 00:00:00</td>\n",
       "      <td>Male</td>\n",
       "    </tr>\n",
       "    <tr>\n",
       "      <th>3</th>\n",
       "      <td>NASAW00011003</td>\n",
       "      <td>1973-08-14 00:00:00</td>\n",
       "      <td>Female</td>\n",
       "    </tr>\n",
       "    <tr>\n",
       "      <th>4</th>\n",
       "      <td>NASAW00011004</td>\n",
       "      <td>1979-08-05 00:00:00</td>\n",
       "      <td>Female</td>\n",
       "    </tr>\n",
       "    <tr>\n",
       "      <th>...</th>\n",
       "      <td>...</td>\n",
       "      <td>...</td>\n",
       "      <td>...</td>\n",
       "    </tr>\n",
       "    <tr>\n",
       "      <th>9994</th>\n",
       "      <td>NASAW00020994</td>\n",
       "      <td>1985-04-21 00:00:00</td>\n",
       "      <td></td>\n",
       "    </tr>\n",
       "    <tr>\n",
       "      <th>9995</th>\n",
       "      <td>NASAW00020995</td>\n",
       "      <td>1984-08-16 00:00:00</td>\n",
       "      <td></td>\n",
       "    </tr>\n",
       "    <tr>\n",
       "      <th>9996</th>\n",
       "      <td>NASAW00020996</td>\n",
       "      <td>1984-09-19 00:00:00</td>\n",
       "      <td></td>\n",
       "    </tr>\n",
       "    <tr>\n",
       "      <th>9997</th>\n",
       "      <td>NASAW00020997</td>\n",
       "      <td>1985-01-06 00:00:00</td>\n",
       "      <td></td>\n",
       "    </tr>\n",
       "    <tr>\n",
       "      <th>9998</th>\n",
       "      <td>NASAW00020998</td>\n",
       "      <td>1983-07-03 00:00:00</td>\n",
       "      <td></td>\n",
       "    </tr>\n",
       "  </tbody>\n",
       "</table>\n",
       "<p>9999 rows × 3 columns</p>\n",
       "</div>"
      ],
      "text/plain": [
       "                Cid                Bdate     Gen\n",
       "0     NASAW00011000  1971-10-06 00:00:00    Male\n",
       "1     NASAW00011001  1976-05-10 00:00:00    Male\n",
       "2     NASAW00011002  1971-02-09 00:00:00    Male\n",
       "3     NASAW00011003  1973-08-14 00:00:00  Female\n",
       "4     NASAW00011004  1979-08-05 00:00:00  Female\n",
       "...             ...                  ...     ...\n",
       "9994  NASAW00020994  1985-04-21 00:00:00        \n",
       "9995  NASAW00020995  1984-08-16 00:00:00        \n",
       "9996  NASAW00020996  1984-09-19 00:00:00        \n",
       "9997  NASAW00020997  1985-01-06 00:00:00        \n",
       "9998  NASAW00020998  1983-07-03 00:00:00        \n",
       "\n",
       "[9999 rows x 3 columns]"
      ]
     },
     "execution_count": 188,
     "metadata": {},
     "output_type": "execute_result"
    }
   ],
   "source": [
    "# Read the customer_info table from sql server\n",
    "cur,con = connect_database()\n",
    "query = \"select * from bronze.erp_customer_info;\"\n",
    "df_customer_info = pd.read_sql(query, con)\n",
    "\n",
    "# Display the DataFrame\n",
    "df_customer_info "
   ]
  },
  {
   "cell_type": "code",
   "execution_count": 189,
   "metadata": {},
   "outputs": [],
   "source": [
    "# the cid  of customer_info contains the value of cst_key of the table customer plus 3 others characters we have to split cid\n",
    "df_customer_info['Cid']=df_customer_info['Cid'].str[3:]\n"
   ]
  },
  {
   "cell_type": "code",
   "execution_count": 190,
   "metadata": {},
   "outputs": [
    {
     "data": {
      "text/html": [
       "<div>\n",
       "<style scoped>\n",
       "    .dataframe tbody tr th:only-of-type {\n",
       "        vertical-align: middle;\n",
       "    }\n",
       "\n",
       "    .dataframe tbody tr th {\n",
       "        vertical-align: top;\n",
       "    }\n",
       "\n",
       "    .dataframe thead th {\n",
       "        text-align: right;\n",
       "    }\n",
       "</style>\n",
       "<table border=\"1\" class=\"dataframe\">\n",
       "  <thead>\n",
       "    <tr style=\"text-align: right;\">\n",
       "      <th></th>\n",
       "      <th>Cid</th>\n",
       "      <th>Bdate</th>\n",
       "      <th>Gen</th>\n",
       "    </tr>\n",
       "  </thead>\n",
       "  <tbody>\n",
       "    <tr>\n",
       "      <th>0</th>\n",
       "      <td>AW00011000</td>\n",
       "      <td>1971-10-06 00:00:00</td>\n",
       "      <td>Male</td>\n",
       "    </tr>\n",
       "    <tr>\n",
       "      <th>1</th>\n",
       "      <td>AW00011001</td>\n",
       "      <td>1976-05-10 00:00:00</td>\n",
       "      <td>Male</td>\n",
       "    </tr>\n",
       "    <tr>\n",
       "      <th>2</th>\n",
       "      <td>AW00011002</td>\n",
       "      <td>1971-02-09 00:00:00</td>\n",
       "      <td>Male</td>\n",
       "    </tr>\n",
       "    <tr>\n",
       "      <th>3</th>\n",
       "      <td>AW00011003</td>\n",
       "      <td>1973-08-14 00:00:00</td>\n",
       "      <td>Female</td>\n",
       "    </tr>\n",
       "    <tr>\n",
       "      <th>4</th>\n",
       "      <td>AW00011004</td>\n",
       "      <td>1979-08-05 00:00:00</td>\n",
       "      <td>Female</td>\n",
       "    </tr>\n",
       "  </tbody>\n",
       "</table>\n",
       "</div>"
      ],
      "text/plain": [
       "          Cid                Bdate     Gen\n",
       "0  AW00011000  1971-10-06 00:00:00    Male\n",
       "1  AW00011001  1976-05-10 00:00:00    Male\n",
       "2  AW00011002  1971-02-09 00:00:00    Male\n",
       "3  AW00011003  1973-08-14 00:00:00  Female\n",
       "4  AW00011004  1979-08-05 00:00:00  Female"
      ]
     },
     "execution_count": 190,
     "metadata": {},
     "output_type": "execute_result"
    }
   ],
   "source": [
    "df_customer_info.head()"
   ]
  },
  {
   "cell_type": "code",
   "execution_count": 196,
   "metadata": {},
   "outputs": [
    {
     "data": {
      "text/html": [
       "<div>\n",
       "<style scoped>\n",
       "    .dataframe tbody tr th:only-of-type {\n",
       "        vertical-align: middle;\n",
       "    }\n",
       "\n",
       "    .dataframe tbody tr th {\n",
       "        vertical-align: top;\n",
       "    }\n",
       "\n",
       "    .dataframe thead th {\n",
       "        text-align: right;\n",
       "    }\n",
       "</style>\n",
       "<table border=\"1\" class=\"dataframe\">\n",
       "  <thead>\n",
       "    <tr style=\"text-align: right;\">\n",
       "      <th></th>\n",
       "      <th>Cid</th>\n",
       "      <th>Bdate</th>\n",
       "      <th>Gen</th>\n",
       "    </tr>\n",
       "  </thead>\n",
       "  <tbody>\n",
       "    <tr>\n",
       "      <th>257</th>\n",
       "      <td>AW00011257</td>\n",
       "      <td>2050-07-06</td>\n",
       "      <td>Female</td>\n",
       "    </tr>\n",
       "    <tr>\n",
       "      <th>410</th>\n",
       "      <td>AW00011410</td>\n",
       "      <td>2042-02-22</td>\n",
       "      <td>Male</td>\n",
       "    </tr>\n",
       "    <tr>\n",
       "      <th>551</th>\n",
       "      <td>AW00011551</td>\n",
       "      <td>2050-05-21</td>\n",
       "      <td>Male</td>\n",
       "    </tr>\n",
       "    <tr>\n",
       "      <th>562</th>\n",
       "      <td>AW00011562</td>\n",
       "      <td>2038-10-17</td>\n",
       "      <td>Male</td>\n",
       "    </tr>\n",
       "    <tr>\n",
       "      <th>581</th>\n",
       "      <td>AW00011581</td>\n",
       "      <td>2045-03-03</td>\n",
       "      <td>Female</td>\n",
       "    </tr>\n",
       "    <tr>\n",
       "      <th>775</th>\n",
       "      <td>AW00011775</td>\n",
       "      <td>2050-11-22</td>\n",
       "      <td>Female</td>\n",
       "    </tr>\n",
       "    <tr>\n",
       "      <th>912</th>\n",
       "      <td>AW00011912</td>\n",
       "      <td>2066-06-16</td>\n",
       "      <td>Female</td>\n",
       "    </tr>\n",
       "    <tr>\n",
       "      <th>1123</th>\n",
       "      <td>AW00012123</td>\n",
       "      <td>2065-12-12</td>\n",
       "      <td>Male</td>\n",
       "    </tr>\n",
       "    <tr>\n",
       "      <th>2417</th>\n",
       "      <td>AW00013417</td>\n",
       "      <td>2050-09-07</td>\n",
       "      <td>Male</td>\n",
       "    </tr>\n",
       "    <tr>\n",
       "      <th>9062</th>\n",
       "      <td>AW00020062</td>\n",
       "      <td>2080-03-15</td>\n",
       "      <td>Male</td>\n",
       "    </tr>\n",
       "  </tbody>\n",
       "</table>\n",
       "</div>"
      ],
      "text/plain": [
       "             Cid       Bdate     Gen\n",
       "257   AW00011257  2050-07-06  Female\n",
       "410   AW00011410  2042-02-22    Male\n",
       "551   AW00011551  2050-05-21    Male\n",
       "562   AW00011562  2038-10-17    Male\n",
       "581   AW00011581  2045-03-03  Female\n",
       "775   AW00011775  2050-11-22  Female\n",
       "912   AW00011912  2066-06-16  Female\n",
       "1123  AW00012123  2065-12-12    Male\n",
       "2417  AW00013417  2050-09-07    Male\n",
       "9062  AW00020062  2080-03-15    Male"
      ]
     },
     "execution_count": 196,
     "metadata": {},
     "output_type": "execute_result"
    }
   ],
   "source": [
    "# Get today's date \n",
    "today = datetime.today().date()\n",
    "\n",
    "# extract only dat without time\n",
    "#df_customer_info['Bdate'] = pd.to_datetime(df_customer_info['Bdate'], errors='coerce')\n",
    "df_customer_info['Bdate'] =df_customer_info['Bdate'].dt.date\n",
    "# check if bdate is less than today\n",
    "df_customer_info[df_customer_info['Bdate'] > today]"
   ]
  },
  {
   "cell_type": "code",
   "execution_count": 200,
   "metadata": {},
   "outputs": [],
   "source": [
    "indices_to_drop = df_customer_info[df_customer_info['Bdate'] > today].index\n",
    "\n",
    "df_customer_info = df_customer_info.drop(indices_to_drop, axis=0)"
   ]
  },
  {
   "cell_type": "code",
   "execution_count": 201,
   "metadata": {},
   "outputs": [
    {
     "data": {
      "text/html": [
       "<div>\n",
       "<style scoped>\n",
       "    .dataframe tbody tr th:only-of-type {\n",
       "        vertical-align: middle;\n",
       "    }\n",
       "\n",
       "    .dataframe tbody tr th {\n",
       "        vertical-align: top;\n",
       "    }\n",
       "\n",
       "    .dataframe thead th {\n",
       "        text-align: right;\n",
       "    }\n",
       "</style>\n",
       "<table border=\"1\" class=\"dataframe\">\n",
       "  <thead>\n",
       "    <tr style=\"text-align: right;\">\n",
       "      <th></th>\n",
       "      <th>Cid</th>\n",
       "      <th>Bdate</th>\n",
       "      <th>Gen</th>\n",
       "    </tr>\n",
       "  </thead>\n",
       "  <tbody>\n",
       "  </tbody>\n",
       "</table>\n",
       "</div>"
      ],
      "text/plain": [
       "Empty DataFrame\n",
       "Columns: [Cid, Bdate, Gen]\n",
       "Index: []"
      ]
     },
     "execution_count": 201,
     "metadata": {},
     "output_type": "execute_result"
    }
   ],
   "source": [
    "df_customer_info[df_customer_info['Bdate'] > today]"
   ]
  },
  {
   "cell_type": "code",
   "execution_count": 202,
   "metadata": {},
   "outputs": [
    {
     "data": {
      "text/html": [
       "<div>\n",
       "<style scoped>\n",
       "    .dataframe tbody tr th:only-of-type {\n",
       "        vertical-align: middle;\n",
       "    }\n",
       "\n",
       "    .dataframe tbody tr th {\n",
       "        vertical-align: top;\n",
       "    }\n",
       "\n",
       "    .dataframe thead th {\n",
       "        text-align: right;\n",
       "    }\n",
       "</style>\n",
       "<table border=\"1\" class=\"dataframe\">\n",
       "  <thead>\n",
       "    <tr style=\"text-align: right;\">\n",
       "      <th></th>\n",
       "      <th>Cid</th>\n",
       "      <th>Bdate</th>\n",
       "      <th>Gen</th>\n",
       "    </tr>\n",
       "  </thead>\n",
       "  <tbody>\n",
       "    <tr>\n",
       "      <th>0</th>\n",
       "      <td>AW00011000</td>\n",
       "      <td>1971-10-06</td>\n",
       "      <td>Male</td>\n",
       "    </tr>\n",
       "    <tr>\n",
       "      <th>1</th>\n",
       "      <td>AW00011001</td>\n",
       "      <td>1976-05-10</td>\n",
       "      <td>Male</td>\n",
       "    </tr>\n",
       "    <tr>\n",
       "      <th>2</th>\n",
       "      <td>AW00011002</td>\n",
       "      <td>1971-02-09</td>\n",
       "      <td>Male</td>\n",
       "    </tr>\n",
       "    <tr>\n",
       "      <th>3</th>\n",
       "      <td>AW00011003</td>\n",
       "      <td>1973-08-14</td>\n",
       "      <td>Female</td>\n",
       "    </tr>\n",
       "    <tr>\n",
       "      <th>4</th>\n",
       "      <td>AW00011004</td>\n",
       "      <td>1979-08-05</td>\n",
       "      <td>Female</td>\n",
       "    </tr>\n",
       "    <tr>\n",
       "      <th>...</th>\n",
       "      <td>...</td>\n",
       "      <td>...</td>\n",
       "      <td>...</td>\n",
       "    </tr>\n",
       "    <tr>\n",
       "      <th>9994</th>\n",
       "      <td>AW00020994</td>\n",
       "      <td>1985-04-21</td>\n",
       "      <td></td>\n",
       "    </tr>\n",
       "    <tr>\n",
       "      <th>9995</th>\n",
       "      <td>AW00020995</td>\n",
       "      <td>1984-08-16</td>\n",
       "      <td></td>\n",
       "    </tr>\n",
       "    <tr>\n",
       "      <th>9996</th>\n",
       "      <td>AW00020996</td>\n",
       "      <td>1984-09-19</td>\n",
       "      <td></td>\n",
       "    </tr>\n",
       "    <tr>\n",
       "      <th>9997</th>\n",
       "      <td>AW00020997</td>\n",
       "      <td>1985-01-06</td>\n",
       "      <td></td>\n",
       "    </tr>\n",
       "    <tr>\n",
       "      <th>9998</th>\n",
       "      <td>AW00020998</td>\n",
       "      <td>1983-07-03</td>\n",
       "      <td></td>\n",
       "    </tr>\n",
       "  </tbody>\n",
       "</table>\n",
       "<p>9989 rows × 3 columns</p>\n",
       "</div>"
      ],
      "text/plain": [
       "             Cid       Bdate     Gen\n",
       "0     AW00011000  1971-10-06    Male\n",
       "1     AW00011001  1976-05-10    Male\n",
       "2     AW00011002  1971-02-09    Male\n",
       "3     AW00011003  1973-08-14  Female\n",
       "4     AW00011004  1979-08-05  Female\n",
       "...          ...         ...     ...\n",
       "9994  AW00020994  1985-04-21        \n",
       "9995  AW00020995  1984-08-16        \n",
       "9996  AW00020996  1984-09-19        \n",
       "9997  AW00020997  1985-01-06        \n",
       "9998  AW00020998  1983-07-03        \n",
       "\n",
       "[9989 rows x 3 columns]"
      ]
     },
     "execution_count": 202,
     "metadata": {},
     "output_type": "execute_result"
    }
   ],
   "source": [
    "df_customer_info"
   ]
  },
  {
   "cell_type": "code",
   "execution_count": 203,
   "metadata": {},
   "outputs": [
    {
     "data": {
      "text/plain": [
       "array(['Male', 'Female', '  ', ' ', 'M ', 'F ', 'F', 'M', ''],\n",
       "      dtype=object)"
      ]
     },
     "execution_count": 203,
     "metadata": {},
     "output_type": "execute_result"
    }
   ],
   "source": [
    "df_customer_info['Gen'].unique()"
   ]
  },
  {
   "cell_type": "code",
   "execution_count": 204,
   "metadata": {},
   "outputs": [
    {
     "data": {
      "text/plain": [
       "array(['Male', 'Female', '', 'M', 'F'], dtype=object)"
      ]
     },
     "execution_count": 204,
     "metadata": {},
     "output_type": "execute_result"
    }
   ],
   "source": [
    "df_customer_info['Gen']=df_customer_info['Gen'].str.strip()\n",
    "df_customer_info['Gen'].unique()"
   ]
  },
  {
   "cell_type": "code",
   "execution_count": 205,
   "metadata": {},
   "outputs": [],
   "source": [
    "df_customer_info.loc[:, 'Gen'] = df_customer_info['Gen'].replace({'M': 'Male', 'F': 'Female','':'None'})"
   ]
  },
  {
   "cell_type": "code",
   "execution_count": 207,
   "metadata": {},
   "outputs": [
    {
     "data": {
      "text/plain": [
       "array(['Male', 'Female', 'None'], dtype=object)"
      ]
     },
     "execution_count": 207,
     "metadata": {},
     "output_type": "execute_result"
    }
   ],
   "source": [
    "df_customer_info['Gen'].unique()"
   ]
  },
  {
   "cell_type": "code",
   "execution_count": 208,
   "metadata": {},
   "outputs": [],
   "source": [
    "# truncate table silver.erp_customer_info\n",
    "con.execute('truncate table silver.erp_customer_info')\n",
    "# sql for insert df_customer_info into silver.erp_customer_info\n",
    "silver_erp_customer_info_insert=\"\"\"USE DataWarehouse_Demo  ; INSERT INTO silver.erp_customer_info(\n",
    "      Cid ,\n",
    "      Bdate,\n",
    "      Gen    \n",
    "\t\n",
    "    )  \n",
    "    values(?,?,?) \n",
    "\"\"\""
   ]
  },
  {
   "cell_type": "code",
   "execution_count": 209,
   "metadata": {},
   "outputs": [
    {
     "name": "stdout",
     "output_type": "stream",
     "text": [
      "Rows inserted successfully !\n",
      "Database closed\n"
     ]
    }
   ],
   "source": [
    "try:\n",
    "    for i , row in df_customer_info.iterrows():\n",
    "        cur.execute(silver_erp_customer_info_insert,list(row))\n",
    "        con.commit()\n",
    "    print(\"Rows inserted successfully !\")\n",
    "except:\n",
    "    print(\"Error to insert rows\")\n",
    "finally:\n",
    "    con.close()\n",
    "    print('Database closed')"
   ]
  },
  {
   "cell_type": "code",
   "execution_count": 266,
   "metadata": {},
   "outputs": [],
   "source": [
    "#-------------------------------------------------------\n",
    "#        load bronze.erp_localite\n",
    "#-----------------------------------------"
   ]
  },
  {
   "cell_type": "code",
   "execution_count": 212,
   "metadata": {},
   "outputs": [
    {
     "name": "stderr",
     "output_type": "stream",
     "text": [
      "C:\\Users\\b.azreg\\AppData\\Local\\Temp\\ipykernel_14796\\3650309933.py:4: UserWarning: pandas only supports SQLAlchemy connectable (engine/connection) or database string URI or sqlite3 DBAPI2 connection. Other DBAPI2 objects are not tested. Please consider using SQLAlchemy.\n",
      "  df_localite = pd.read_sql(query, con)\n"
     ]
    },
    {
     "data": {
      "text/html": [
       "<div>\n",
       "<style scoped>\n",
       "    .dataframe tbody tr th:only-of-type {\n",
       "        vertical-align: middle;\n",
       "    }\n",
       "\n",
       "    .dataframe tbody tr th {\n",
       "        vertical-align: top;\n",
       "    }\n",
       "\n",
       "    .dataframe thead th {\n",
       "        text-align: right;\n",
       "    }\n",
       "</style>\n",
       "<table border=\"1\" class=\"dataframe\">\n",
       "  <thead>\n",
       "    <tr style=\"text-align: right;\">\n",
       "      <th></th>\n",
       "      <th>Cid</th>\n",
       "      <th>Cnt</th>\n",
       "    </tr>\n",
       "  </thead>\n",
       "  <tbody>\n",
       "    <tr>\n",
       "      <th>0</th>\n",
       "      <td>AW-00011000</td>\n",
       "      <td>Australia</td>\n",
       "    </tr>\n",
       "    <tr>\n",
       "      <th>1</th>\n",
       "      <td>AW-00011001</td>\n",
       "      <td>Australia</td>\n",
       "    </tr>\n",
       "    <tr>\n",
       "      <th>2</th>\n",
       "      <td>AW-00011002</td>\n",
       "      <td>Australia</td>\n",
       "    </tr>\n",
       "    <tr>\n",
       "      <th>3</th>\n",
       "      <td>AW-00011003</td>\n",
       "      <td>Australia</td>\n",
       "    </tr>\n",
       "    <tr>\n",
       "      <th>4</th>\n",
       "      <td>AW-00011004</td>\n",
       "      <td>Australia</td>\n",
       "    </tr>\n",
       "    <tr>\n",
       "      <th>...</th>\n",
       "      <td>...</td>\n",
       "      <td>...</td>\n",
       "    </tr>\n",
       "    <tr>\n",
       "      <th>9994</th>\n",
       "      <td>AW-00020994</td>\n",
       "      <td>Australia</td>\n",
       "    </tr>\n",
       "    <tr>\n",
       "      <th>9995</th>\n",
       "      <td>AW-00020995</td>\n",
       "      <td>Australia</td>\n",
       "    </tr>\n",
       "    <tr>\n",
       "      <th>9996</th>\n",
       "      <td>AW-00020996</td>\n",
       "      <td>Australia</td>\n",
       "    </tr>\n",
       "    <tr>\n",
       "      <th>9997</th>\n",
       "      <td>AW-00020997</td>\n",
       "      <td>Australia</td>\n",
       "    </tr>\n",
       "    <tr>\n",
       "      <th>9998</th>\n",
       "      <td>AW-00020998</td>\n",
       "      <td>Australia</td>\n",
       "    </tr>\n",
       "  </tbody>\n",
       "</table>\n",
       "<p>9999 rows × 2 columns</p>\n",
       "</div>"
      ],
      "text/plain": [
       "              Cid        Cnt\n",
       "0     AW-00011000  Australia\n",
       "1     AW-00011001  Australia\n",
       "2     AW-00011002  Australia\n",
       "3     AW-00011003  Australia\n",
       "4     AW-00011004  Australia\n",
       "...           ...        ...\n",
       "9994  AW-00020994  Australia\n",
       "9995  AW-00020995  Australia\n",
       "9996  AW-00020996  Australia\n",
       "9997  AW-00020997  Australia\n",
       "9998  AW-00020998  Australia\n",
       "\n",
       "[9999 rows x 2 columns]"
      ]
     },
     "execution_count": 212,
     "metadata": {},
     "output_type": "execute_result"
    }
   ],
   "source": [
    "# Read the customer_info table from sql server\n",
    "cur,con = connect_database()\n",
    "query = \"select * from bronze.erp_localite;\"\n",
    "df_localite = pd.read_sql(query, con)\n",
    "\n",
    "# Display the DataFrame\n",
    "df_localite"
   ]
  },
  {
   "cell_type": "code",
   "execution_count": 213,
   "metadata": {},
   "outputs": [],
   "source": [
    "# delete the dash from values in Cid column\n",
    "df_localite['Cid'] = df_localite['Cid'].replace('-', '', regex=True)"
   ]
  },
  {
   "cell_type": "code",
   "execution_count": 214,
   "metadata": {},
   "outputs": [
    {
     "data": {
      "text/plain": [
       "array(['Australia', 'US', 'Canada', 'DE', 'United Kingdom', 'France',\n",
       "       'USA', 'Germany', ''], dtype=object)"
      ]
     },
     "execution_count": 214,
     "metadata": {},
     "output_type": "execute_result"
    }
   ],
   "source": [
    "df_localite['Cnt'].unique()"
   ]
  },
  {
   "cell_type": "code",
   "execution_count": 215,
   "metadata": {},
   "outputs": [],
   "source": [
    "# replace US by  united USA DE BY Germany\n",
    "#df_localite.loc[:, 'cid'] = df_localite['cid'].replace({'US':'USA','DE':'Germany'})\n",
    "df_localite['Cnt'] = df_localite['Cnt'].replace({'US':'USA','DE':'Germany','':'None'})"
   ]
  },
  {
   "cell_type": "code",
   "execution_count": 217,
   "metadata": {},
   "outputs": [
    {
     "data": {
      "text/plain": [
       "array(['Australia', 'USA', 'Canada', 'Germany', 'United Kingdom',\n",
       "       'France', 'None'], dtype=object)"
      ]
     },
     "execution_count": 217,
     "metadata": {},
     "output_type": "execute_result"
    }
   ],
   "source": [
    "df_localite['Cnt'].unique()"
   ]
  },
  {
   "cell_type": "code",
   "execution_count": 218,
   "metadata": {},
   "outputs": [
    {
     "data": {
      "text/html": [
       "<div>\n",
       "<style scoped>\n",
       "    .dataframe tbody tr th:only-of-type {\n",
       "        vertical-align: middle;\n",
       "    }\n",
       "\n",
       "    .dataframe tbody tr th {\n",
       "        vertical-align: top;\n",
       "    }\n",
       "\n",
       "    .dataframe thead th {\n",
       "        text-align: right;\n",
       "    }\n",
       "</style>\n",
       "<table border=\"1\" class=\"dataframe\">\n",
       "  <thead>\n",
       "    <tr style=\"text-align: right;\">\n",
       "      <th></th>\n",
       "      <th>Cid</th>\n",
       "      <th>Cnt</th>\n",
       "    </tr>\n",
       "  </thead>\n",
       "  <tbody>\n",
       "    <tr>\n",
       "      <th>0</th>\n",
       "      <td>AW00011000</td>\n",
       "      <td>Australia</td>\n",
       "    </tr>\n",
       "    <tr>\n",
       "      <th>1</th>\n",
       "      <td>AW00011001</td>\n",
       "      <td>Australia</td>\n",
       "    </tr>\n",
       "    <tr>\n",
       "      <th>2</th>\n",
       "      <td>AW00011002</td>\n",
       "      <td>Australia</td>\n",
       "    </tr>\n",
       "    <tr>\n",
       "      <th>3</th>\n",
       "      <td>AW00011003</td>\n",
       "      <td>Australia</td>\n",
       "    </tr>\n",
       "    <tr>\n",
       "      <th>4</th>\n",
       "      <td>AW00011004</td>\n",
       "      <td>Australia</td>\n",
       "    </tr>\n",
       "    <tr>\n",
       "      <th>...</th>\n",
       "      <td>...</td>\n",
       "      <td>...</td>\n",
       "    </tr>\n",
       "    <tr>\n",
       "      <th>9994</th>\n",
       "      <td>AW00020994</td>\n",
       "      <td>Australia</td>\n",
       "    </tr>\n",
       "    <tr>\n",
       "      <th>9995</th>\n",
       "      <td>AW00020995</td>\n",
       "      <td>Australia</td>\n",
       "    </tr>\n",
       "    <tr>\n",
       "      <th>9996</th>\n",
       "      <td>AW00020996</td>\n",
       "      <td>Australia</td>\n",
       "    </tr>\n",
       "    <tr>\n",
       "      <th>9997</th>\n",
       "      <td>AW00020997</td>\n",
       "      <td>Australia</td>\n",
       "    </tr>\n",
       "    <tr>\n",
       "      <th>9998</th>\n",
       "      <td>AW00020998</td>\n",
       "      <td>Australia</td>\n",
       "    </tr>\n",
       "  </tbody>\n",
       "</table>\n",
       "<p>9999 rows × 2 columns</p>\n",
       "</div>"
      ],
      "text/plain": [
       "             Cid        Cnt\n",
       "0     AW00011000  Australia\n",
       "1     AW00011001  Australia\n",
       "2     AW00011002  Australia\n",
       "3     AW00011003  Australia\n",
       "4     AW00011004  Australia\n",
       "...          ...        ...\n",
       "9994  AW00020994  Australia\n",
       "9995  AW00020995  Australia\n",
       "9996  AW00020996  Australia\n",
       "9997  AW00020997  Australia\n",
       "9998  AW00020998  Australia\n",
       "\n",
       "[9999 rows x 2 columns]"
      ]
     },
     "execution_count": 218,
     "metadata": {},
     "output_type": "execute_result"
    }
   ],
   "source": [
    "df_localite"
   ]
  },
  {
   "cell_type": "code",
   "execution_count": 219,
   "metadata": {},
   "outputs": [],
   "source": [
    "# truncate silver.erp_localite\n",
    "con.execute('truncate table silver.erp_localite')\n",
    "# sql for insert df_customer_info into silver.erp_customer_info\n",
    "silver_erp_localite_insert=\"\"\"USE DataWarehouse_Demo; INSERT INTO silver.erp_localite(\n",
    "      Cid ,\n",
    "      Cnt\n",
    "     )  \n",
    "    values(?,?) \n",
    "\"\"\""
   ]
  },
  {
   "cell_type": "code",
   "execution_count": 220,
   "metadata": {},
   "outputs": [
    {
     "name": "stdout",
     "output_type": "stream",
     "text": [
      "Rows inserted successfully !\n",
      "Database closed\n"
     ]
    }
   ],
   "source": [
    "try:\n",
    "    for i , row in df_localite.iterrows():\n",
    "        cur.execute(silver_erp_localite_insert,list(row))\n",
    "        con.commit()\n",
    "    print(\"Rows inserted successfully !\")\n",
    "except:\n",
    "    print(\"Error to insert rows\")\n",
    "finally:\n",
    "    con.close()\n",
    "    print('Database closed')"
   ]
  },
  {
   "cell_type": "code",
   "execution_count": 295,
   "metadata": {},
   "outputs": [],
   "source": [
    "#---------------------------------------------------------\n",
    "#       load bronze.erp_category\n",
    "#---------------------------------------------------------"
   ]
  },
  {
   "cell_type": "code",
   "execution_count": 228,
   "metadata": {},
   "outputs": [
    {
     "name": "stderr",
     "output_type": "stream",
     "text": [
      "C:\\Users\\b.azreg\\AppData\\Local\\Temp\\ipykernel_14796\\4194777367.py:4: UserWarning: pandas only supports SQLAlchemy connectable (engine/connection) or database string URI or sqlite3 DBAPI2 connection. Other DBAPI2 objects are not tested. Please consider using SQLAlchemy.\n",
      "  df_category = pd.read_sql(query, con)\n"
     ]
    },
    {
     "data": {
      "text/html": [
       "<div>\n",
       "<style scoped>\n",
       "    .dataframe tbody tr th:only-of-type {\n",
       "        vertical-align: middle;\n",
       "    }\n",
       "\n",
       "    .dataframe tbody tr th {\n",
       "        vertical-align: top;\n",
       "    }\n",
       "\n",
       "    .dataframe thead th {\n",
       "        text-align: right;\n",
       "    }\n",
       "</style>\n",
       "<table border=\"1\" class=\"dataframe\">\n",
       "  <thead>\n",
       "    <tr style=\"text-align: right;\">\n",
       "      <th></th>\n",
       "      <th>ID</th>\n",
       "      <th>Cat</th>\n",
       "      <th>Subcat</th>\n",
       "      <th>Maintenance</th>\n",
       "    </tr>\n",
       "  </thead>\n",
       "  <tbody>\n",
       "    <tr>\n",
       "      <th>0</th>\n",
       "      <td>AC_BR</td>\n",
       "      <td>Accessories</td>\n",
       "      <td>Bike Racks</td>\n",
       "      <td>Yes</td>\n",
       "    </tr>\n",
       "    <tr>\n",
       "      <th>1</th>\n",
       "      <td>AC_BS</td>\n",
       "      <td>Accessories</td>\n",
       "      <td>Bike Stands</td>\n",
       "      <td>No</td>\n",
       "    </tr>\n",
       "    <tr>\n",
       "      <th>2</th>\n",
       "      <td>AC_BC</td>\n",
       "      <td>Accessories</td>\n",
       "      <td>Bottles and Cages</td>\n",
       "      <td>No</td>\n",
       "    </tr>\n",
       "    <tr>\n",
       "      <th>3</th>\n",
       "      <td>AC_CL</td>\n",
       "      <td>Accessories</td>\n",
       "      <td>Cleaners</td>\n",
       "      <td>Yes</td>\n",
       "    </tr>\n",
       "    <tr>\n",
       "      <th>4</th>\n",
       "      <td>AC_FE</td>\n",
       "      <td>Accessories</td>\n",
       "      <td>Fenders</td>\n",
       "      <td>No</td>\n",
       "    </tr>\n",
       "  </tbody>\n",
       "</table>\n",
       "</div>"
      ],
      "text/plain": [
       "      ID          Cat             Subcat Maintenance\n",
       "0  AC_BR  Accessories         Bike Racks         Yes\n",
       "1  AC_BS  Accessories        Bike Stands          No\n",
       "2  AC_BC  Accessories  Bottles and Cages          No\n",
       "3  AC_CL  Accessories           Cleaners         Yes\n",
       "4  AC_FE  Accessories            Fenders          No"
      ]
     },
     "execution_count": 228,
     "metadata": {},
     "output_type": "execute_result"
    }
   ],
   "source": [
    "# Read the category_info table from sql server\n",
    "cur,con = connect_database()\n",
    "query = \"select * from bronze.erp_category;\"\n",
    "df_category = pd.read_sql(query, con)\n",
    "\n",
    "# Display the DataFrame\n",
    "df_category.head()"
   ]
  },
  {
   "cell_type": "code",
   "execution_count": 229,
   "metadata": {},
   "outputs": [
    {
     "name": "stdout",
     "output_type": "stream",
     "text": [
      "<class 'pandas.core.frame.DataFrame'>\n",
      "RangeIndex: 37 entries, 0 to 36\n",
      "Data columns (total 4 columns):\n",
      " #   Column       Non-Null Count  Dtype \n",
      "---  ------       --------------  ----- \n",
      " 0   ID           37 non-null     object\n",
      " 1   Cat          37 non-null     object\n",
      " 2   Subcat       37 non-null     object\n",
      " 3   Maintenance  37 non-null     object\n",
      "dtypes: object(4)\n",
      "memory usage: 1.3+ KB\n"
     ]
    }
   ],
   "source": [
    "df_category.info()"
   ]
  },
  {
   "cell_type": "code",
   "execution_count": 230,
   "metadata": {},
   "outputs": [
    {
     "data": {
      "text/plain": [
       "array(['Accessories', 'Bikes', 'Clothing', 'Components'], dtype=object)"
      ]
     },
     "execution_count": 230,
     "metadata": {},
     "output_type": "execute_result"
    }
   ],
   "source": [
    "df_category['Cat'].unique()"
   ]
  },
  {
   "cell_type": "code",
   "execution_count": 231,
   "metadata": {},
   "outputs": [
    {
     "data": {
      "text/plain": [
       "array(['Yes', 'No'], dtype=object)"
      ]
     },
     "execution_count": 231,
     "metadata": {},
     "output_type": "execute_result"
    }
   ],
   "source": [
    "df_category['Maintenance'].unique()"
   ]
  },
  {
   "cell_type": "code",
   "execution_count": 232,
   "metadata": {},
   "outputs": [],
   "source": [
    "# truncate silver.erp_category table\n",
    "con.execute('truncate table silver.erp_category')\n",
    "# sql for insert df_customer_info into silver.erp_customer_info\n",
    "silver_erp_category_insert=\"\"\"USE DataWarehouse_Demo ; INSERT INTO silver.erp_category(\n",
    "      ID,\n",
    "      Cat,\n",
    "      Subcat,\n",
    "      Maintenance\n",
    "     )  \n",
    "    values(?,?,?,?) \n",
    "\"\"\""
   ]
  },
  {
   "cell_type": "code",
   "execution_count": 233,
   "metadata": {},
   "outputs": [
    {
     "name": "stdout",
     "output_type": "stream",
     "text": [
      "Rows inserted successfully !\n"
     ]
    }
   ],
   "source": [
    "try:\n",
    "    for i , row in df_category.iterrows():\n",
    "        cur.execute(silver_erp_category_insert,list(row))\n",
    "        con.commit()\n",
    "    print(\"Rows inserted successfully !\")\n",
    "except:\n",
    "    print(\"Error to insert rows\")"
   ]
  }
 ],
 "metadata": {
  "kernelspec": {
   "display_name": "base",
   "language": "python",
   "name": "python3"
  },
  "language_info": {
   "codemirror_mode": {
    "name": "ipython",
    "version": 3
   },
   "file_extension": ".py",
   "mimetype": "text/x-python",
   "name": "python",
   "nbconvert_exporter": "python",
   "pygments_lexer": "ipython3",
   "version": "3.9.13"
  }
 },
 "nbformat": 4,
 "nbformat_minor": 2
}
